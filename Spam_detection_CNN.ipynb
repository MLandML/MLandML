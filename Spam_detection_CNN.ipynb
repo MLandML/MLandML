{
  "nbformat": 4,
  "nbformat_minor": 0,
  "metadata": {
    "colab": {
      "private_outputs": true,
      "provenance": [],
      "authorship_tag": "ABX9TyP1/JLwdh/VHxshBgcZOQlg",
      "include_colab_link": true
    },
    "kernelspec": {
      "name": "python3",
      "display_name": "Python 3"
    },
    "language_info": {
      "name": "python"
    }
  },
  "cells": [
    {
      "cell_type": "markdown",
      "metadata": {
        "id": "view-in-github",
        "colab_type": "text"
      },
      "source": [
        "<a href=\"https://colab.research.google.com/github/MLandML/MLandML/blob/learning_projects/Spam_detection_CNN.ipynb\" target=\"_parent\"><img src=\"https://colab.research.google.com/assets/colab-badge.svg\" alt=\"Open In Colab\"/></a>"
      ]
    },
    {
      "cell_type": "code",
      "execution_count": null,
      "metadata": {
        "id": "pN5pz8s6zVG6"
      },
      "outputs": [],
      "source": [
        "import numpy as np\n",
        "import pandas as pd\n",
        "import matplotlib.pyplot as plt\n",
        "\n",
        "from tensorflow.keras.preprocessing.text import Tokenizer\n",
        "from tensorflow.keras.preprocessing.sequence import pad_sequences\n",
        "from tensorflow.keras.layers import Input,Embedding,Conv1D,MaxPooling1D,GlobalMaxPooling1D,Dense\n",
        "from tensorflow.keras.models import Model\n",
        "from tensorflow.keras.optimizers import Adam"
      ]
    },
    {
      "cell_type": "code",
      "source": [
        "from google.colab import files\n",
        "\n",
        "uploaded = files.upload()"
      ],
      "metadata": {
        "id": "p9UlyNHl0QGA"
      },
      "execution_count": null,
      "outputs": []
    },
    {
      "cell_type": "code",
      "source": [
        "import io\n",
        "df = pd.read_csv(io.BytesIO(uploaded['spam.csv']),encoding='ISO-8859-1')\n",
        "df.head()"
      ],
      "metadata": {
        "id": "jCb0m1_30fYY"
      },
      "execution_count": null,
      "outputs": []
    },
    {
      "cell_type": "code",
      "source": [
        "df.drop(['Unnamed: 2','Unnamed: 3','Unnamed: 4'],axis=1,inplace=True)\n",
        "\n",
        "df.columns = ['label','data']\n",
        "df.head()"
      ],
      "metadata": {
        "id": "Rs7PTTVj1mM5"
      },
      "execution_count": null,
      "outputs": []
    },
    {
      "cell_type": "code",
      "source": [
        "df['b_label'] = df['label'].map({'ham':0,'spam':1})\n",
        "Y = df['b_label'].values\n",
        "from sklearn.model_selection import train_test_split\n",
        "df_train,df_test,y_train,y_test = train_test_split(df['data'],Y,test_size=0.33)"
      ],
      "metadata": {
        "id": "jtPmg5aS2ILa"
      },
      "execution_count": null,
      "outputs": []
    },
    {
      "cell_type": "code",
      "source": [
        "from IPython.lib.pretty import MAX_SEQ_LENGTH\n",
        "MAX_SEQ_LENGTH = 20000\n",
        "tokenizer = Tokenizer(num_words=MAX_SEQ_LENGTH)\n",
        "tokenizer.fit_on_texts(df_train)\n",
        "sequence_train = tokenizer.texts_to_sequences(df_train)\n",
        "sequence_test = tokenizer.texts_to_sequences(df_test) "
      ],
      "metadata": {
        "id": "4hwhlWsH3g3B"
      },
      "execution_count": null,
      "outputs": []
    },
    {
      "cell_type": "code",
      "source": [
        "word2idx = tokenizer.word_index\n",
        "V = len(word2idx)"
      ],
      "metadata": {
        "id": "d1mDDWFU7KcG"
      },
      "execution_count": null,
      "outputs": []
    },
    {
      "cell_type": "code",
      "source": [
        "data_train = pad_sequences(sequence_train)\n",
        "T = data_train.shape[1]\n",
        "data_test = pad_sequences(sequence_test,maxlen=T)"
      ],
      "metadata": {
        "id": "bAOXnh2I4TLR"
      },
      "execution_count": null,
      "outputs": []
    },
    {
      "cell_type": "code",
      "source": [
        "D = 15\n",
        "i = Input(shape=(T,))\n",
        "x = Embedding(V+1,D)(i)\n",
        "x = Conv1D(32,3,activation='relu')(x)\n",
        "x = MaxPooling1D(3)(x)\n",
        "x = Conv1D(64,3,activation='relu')(x)\n",
        "x = MaxPooling1D(3)(x)\n",
        "x = Conv1D(128,3,activation='relu')(x)\n",
        "x = GlobalMaxPooling1D()(x)\n",
        "x = Dense(1,activation='sigmoid')(x)\n",
        "\n",
        "model = Model(i,x)\n",
        "\n",
        "model.compile(\n",
        "    loss = 'binary_crossentropy',\n",
        "    optimizer = Adam(lr=0.01),\n",
        "    metrics = ['accuracy']\n",
        ")\n",
        "\n",
        "r = model.fit(data_train,y_train,epochs=15,validation_data=(data_test,y_test))"
      ],
      "metadata": {
        "id": "jQh0aZCV4zxC"
      },
      "execution_count": null,
      "outputs": []
    },
    {
      "cell_type": "code",
      "source": [
        "plt.plot(r.history['loss'],label='loss')\n",
        "plt.plot(r.history['val_loss'],label='val_loss')\n",
        "plt.legend()"
      ],
      "metadata": {
        "id": "YGoWrQZR75AM"
      },
      "execution_count": null,
      "outputs": []
    },
    {
      "cell_type": "code",
      "source": [
        "plt.plot(r.history['accuracy'],label='acc')\n",
        "plt.plot(r.history['val_accuracy'],label='val_acc')\n",
        "plt.legend()"
      ],
      "metadata": {
        "id": "AUne0mtF8QOc"
      },
      "execution_count": null,
      "outputs": []
    }
  ]
}