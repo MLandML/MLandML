{
  "nbformat": 4,
  "nbformat_minor": 0,
  "metadata": {
    "colab": {
      "private_outputs": true,
      "provenance": [],
      "authorship_tag": "ABX9TyPzTYoc1TvR/51kv5YAHmKS",
      "include_colab_link": true
    },
    "kernelspec": {
      "name": "python3",
      "display_name": "Python 3"
    },
    "language_info": {
      "name": "python"
    },
    "gpuClass": "standard"
  },
  "cells": [
    {
      "cell_type": "markdown",
      "metadata": {
        "id": "view-in-github",
        "colab_type": "text"
      },
      "source": [
        "<a href=\"https://colab.research.google.com/github/MLandML/MLandML/blob/main/TF_ANN_regression.ipynb\" target=\"_parent\"><img src=\"https://colab.research.google.com/assets/colab-badge.svg\" alt=\"Open In Colab\"/></a>"
      ]
    },
    {
      "cell_type": "code",
      "execution_count": null,
      "metadata": {
        "id": "3V9hEI75re2z"
      },
      "outputs": [],
      "source": [
        "import tensorflow as tf"
      ]
    },
    {
      "cell_type": "code",
      "source": [
        "import numpy as np\n",
        "import matplotlib.pyplot as plt\n",
        "from mpl_toolkits.mplot3d import Axes3D\n",
        "\n",
        "N=1000\n",
        "X = np.random.random((N,2)) *6 -3\n",
        "Y = np.cos(2*X[:,0]) + np.cos(3*X[:,1])"
      ],
      "metadata": {
        "id": "sRbYOt5N_LNa"
      },
      "execution_count": null,
      "outputs": []
    },
    {
      "cell_type": "code",
      "source": [
        "from matplotlib import projections\n",
        "fig = plt.figure()\n",
        "ax = fig.add_subplot(111,projection='3d')\n",
        "ax.scatter(X[:,0],X[:,1],Y)"
      ],
      "metadata": {
        "id": "KqouW85jAwYJ"
      },
      "execution_count": null,
      "outputs": []
    },
    {
      "cell_type": "code",
      "source": [
        "model = tf.keras.models.Sequential([\n",
        "    tf.keras.layers.Dense(128,input_shape=(2,),activation='relu'),\n",
        "    tf.keras.layers.Dropout(0.2),\n",
        "    tf.keras.layers.Dense(1)\n",
        "])"
      ],
      "metadata": {
        "id": "EkPZ__ouB54j"
      },
      "execution_count": null,
      "outputs": []
    },
    {
      "cell_type": "code",
      "source": [
        "from tensorflow.python import metrics\n",
        "opt = tf.keras.optimizers.Adam(0.01)\n",
        "model.compile(\n",
        "    optimizer = opt,\n",
        "    loss = 'mse',\n",
        "    )\n",
        "r = model.fit(X,Y,epochs=100)"
      ],
      "metadata": {
        "id": "e3KIQkzLDesO"
      },
      "execution_count": null,
      "outputs": []
    },
    {
      "cell_type": "code",
      "source": [
        "plt.plot(r.history['loss'],label='loss')"
      ],
      "metadata": {
        "id": "LWv9So5UE0Ce"
      },
      "execution_count": null,
      "outputs": []
    },
    {
      "cell_type": "code",
      "source": [
        "fig = plt.figure()\n",
        "ax = fig.add_subplot(111,projection='3d')\n",
        "ax.scatter(X[:,0],X[:,1],Y)\n",
        "\n",
        "line = np.linspace(-3,3,50)\n",
        "xx,yy = np.meshgrid(line,line)\n",
        "Xgrid = np.vstack((xx.flatten(),yy.flatten())).T\n",
        "Yhat = model.predict(Xgrid).flatten()\n",
        "ax.plot_trisurf(Xgrid[:,0],Xgrid[:,1],Yhat,linewidth=0.2,antialiased=True)\n"
      ],
      "metadata": {
        "id": "bwU95CdGF3rg"
      },
      "execution_count": null,
      "outputs": []
    },
    {
      "cell_type": "code",
      "source": [
        "fig = plt.figure()\n",
        "ax = fig.add_subplot(111,projection='3d')\n",
        "ax.scatter(X[:,0],X[:,1],Y)\n",
        "\n",
        "line = np.linspace(-5,5,50)\n",
        "xx,yy = np.meshgrid(line,line)\n",
        "Xgrid = np.vstack((xx.flatten(),yy.flatten())).T\n",
        "Yhat = model.predict(Xgrid).flatten()\n",
        "ax.plot_trisurf(Xgrid[:,0],Xgrid[:,1],Yhat,linewidth=0.2,antialiased=True)\n"
      ],
      "metadata": {
        "id": "oaiB9QMeZ9KF"
      },
      "execution_count": null,
      "outputs": []
    }
  ]
}