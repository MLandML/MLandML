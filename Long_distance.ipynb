{
  "nbformat": 4,
  "nbformat_minor": 0,
  "metadata": {
    "colab": {
      "private_outputs": true,
      "provenance": [],
      "authorship_tag": "ABX9TyPavdK/Otij3peGiAnW4Jdp",
      "include_colab_link": true
    },
    "kernelspec": {
      "name": "python3",
      "display_name": "Python 3"
    },
    "language_info": {
      "name": "python"
    }
  },
  "cells": [
    {
      "cell_type": "markdown",
      "metadata": {
        "id": "view-in-github",
        "colab_type": "text"
      },
      "source": [
        "<a href=\"https://colab.research.google.com/github/MLandML/MLandML/blob/learning_projects/Long_distance.ipynb\" target=\"_parent\"><img src=\"https://colab.research.google.com/assets/colab-badge.svg\" alt=\"Open In Colab\"/></a>"
      ]
    },
    {
      "cell_type": "code",
      "execution_count": null,
      "metadata": {
        "id": "4FptQnwP3o1a"
      },
      "outputs": [],
      "source": [
        "import tensorflow as tf\n",
        "import numpy as np\n",
        "import matplotlib.pyplot as plt\n",
        "\n",
        "from tensorflow.keras.layers import Input,SimpleRNN,Dense,Flatten,LSTM,GRU,GlobalMaxPooling1D\n",
        "from tensorflow.keras.models import Model\n",
        "from tensorflow.keras.optimizers import SGD,Adam"
      ]
    },
    {
      "cell_type": "code",
      "source": [
        "T = 10\n",
        "D = 1\n",
        "X = []\n",
        "Y = []\n",
        "\n",
        "def get_label(x,l1,l2,l3):\n",
        "  if x[l1]>0.0 and x[l2]>0.0 and x[l3]>0.0:\n",
        "    return 1\n",
        "  if x[l1]>0.0 and x[l2]<0.0 and x[l3]<0.0:\n",
        "    return 1\n",
        "  if x[l1]<0.0 and x[l2]<0.0 and x[l3]>0.0:\n",
        "    return 1\n",
        "  if x[l1]<0.0 and x[l2]>0.0 and x[l3]<0.0:\n",
        "    return 1\n",
        "  else:\n",
        "    return 0\n",
        "\n",
        "for t in range(5000):\n",
        "  x = np.random.randn(T)\n",
        "  y = get_label(x,-1,-2,-3)\n",
        "  X.append(x)\n",
        "  Y.append(y)\n",
        "\n",
        "X = np.array(X)\n",
        "Y = np.array(Y)\n",
        "N = len(X)"
      ],
      "metadata": {
        "id": "5CciMWxWAr4e"
      },
      "execution_count": null,
      "outputs": []
    },
    {
      "cell_type": "code",
      "source": [
        "Y.shape\n"
      ],
      "metadata": {
        "id": "0pefjCibZID6"
      },
      "execution_count": null,
      "outputs": []
    },
    {
      "cell_type": "code",
      "source": [
        "#linear model\n",
        "i = Input(shape = (T,))\n",
        "x = Dense(1,activation='sigmoid')(i)\n",
        "\n",
        "model = Model(i,x)\n",
        "model.compile(\n",
        "    loss = 'binary_crossentropy',\n",
        "    optimizer = Adam(lr=0.1),\n",
        "    metrics=['accuracy']\n",
        ")\n",
        "\n",
        "r = model.fit(X,Y,validation_split=0.5,epochs=100)"
      ],
      "metadata": {
        "id": "6Eml93JlOvMg"
      },
      "execution_count": null,
      "outputs": []
    },
    {
      "cell_type": "code",
      "source": [
        "#Long distance\n",
        "T = 10\n",
        "D = 1\n",
        "X = []\n",
        "Y = []\n",
        "\n",
        "for t in range(5000):\n",
        "  x = np.random.randn(T)\n",
        "  y = get_label(x,0, 1, 2)\n",
        "  X.append(x)\n",
        "  Y.append(y)\n",
        "\n",
        "X = np.array(X)\n",
        "Y = np.array(Y)\n",
        "N = len(X)"
      ],
      "metadata": {
        "id": "xgiH-h3KeFEv"
      },
      "execution_count": null,
      "outputs": []
    },
    {
      "cell_type": "code",
      "source": [
        "#simpleRNN\n",
        "inputs = np.expand_dims(X,-1)\n",
        "i = Input(shape=(T,D))\n",
        "x = SimpleRNN(5)(i)\n",
        "x = Dense(1,activation='sigmoid')(x)\n",
        "\n",
        "model= Model(i,x)\n",
        "model.compile(\n",
        "    loss = 'binary_crossentropy',\n",
        "    optimizer = Adam(lr=0.1),\n",
        "    metrics = ['accuracy']\n",
        ")\n",
        "\n",
        "r = model.fit(\n",
        "    inputs,Y,\n",
        "    epochs=200,\n",
        "    validation_split=0.5,\n",
        "    )"
      ],
      "metadata": {
        "id": "HepVUUmBV3Hp"
      },
      "execution_count": null,
      "outputs": []
    },
    {
      "cell_type": "code",
      "source": [
        "plt.plot(r.history['loss'],label='loss')\n",
        "plt.plot(r.history['val_loss'],label='val_loss')\n",
        "plt.legend()"
      ],
      "metadata": {
        "id": "PKw-_tFlbMdg"
      },
      "execution_count": null,
      "outputs": []
    },
    {
      "cell_type": "code",
      "source": [
        "plt.plot(r.history['accuracy'],label='acc')\n",
        "plt.plot(r.history['val_accuracy'],label='val_acc')\n",
        "plt.legend()"
      ],
      "metadata": {
        "id": "mp0PY9OYblOs"
      },
      "execution_count": null,
      "outputs": []
    },
    {
      "cell_type": "code",
      "source": [
        "#LSTM\n",
        "inputs = np.expand_dims(X,-1)\n",
        "i = Input(shape=(T,D))\n",
        "x = LSTM(5)(i)\n",
        "x = Dense(1,activation='sigmoid')(x)\n",
        "\n",
        "model= Model(i,x)\n",
        "model.compile(\n",
        "    loss = 'binary_crossentropy',\n",
        "    optimizer = Adam(lr=0.1),\n",
        "    metrics = ['accuracy']\n",
        ")\n",
        "\n",
        "r = model.fit(\n",
        "    inputs,Y,\n",
        "    epochs=200,\n",
        "    validation_split=0.5,\n",
        "    )"
      ],
      "metadata": {
        "id": "2RSjvvTocr8h"
      },
      "execution_count": null,
      "outputs": []
    },
    {
      "cell_type": "code",
      "source": [
        "plt.plot(r.history['loss'],label='loss')\n",
        "plt.plot(r.history['val_loss'],label='val_loss')\n",
        "plt.legend()"
      ],
      "metadata": {
        "id": "ZczzhxxsdSQy"
      },
      "execution_count": null,
      "outputs": []
    },
    {
      "cell_type": "code",
      "source": [
        "plt.plot(r.history['accuracy'],label='acc')\n",
        "plt.plot(r.history['val_accuracy'],label='val_acc')\n",
        "plt.legend()"
      ],
      "metadata": {
        "id": "pVgiGuJ2dV-y"
      },
      "execution_count": null,
      "outputs": []
    },
    {
      "cell_type": "code",
      "source": [
        "#GRU\n",
        "inputs = np.expand_dims(X,-1)\n",
        "i = Input(shape=(T,D))\n",
        "x = GRU(5)(i)\n",
        "x = Dense(1,activation='sigmoid')(x)\n",
        "\n",
        "model= Model(i,x)\n",
        "model.compile(\n",
        "    loss = 'binary_crossentropy',\n",
        "    optimizer = Adam(lr=0.1),\n",
        "    metrics = ['accuracy']\n",
        ")\n",
        "\n",
        "r = model.fit(\n",
        "    inputs,Y,\n",
        "    epochs=400,\n",
        "    validation_split=0.5,\n",
        "    )"
      ],
      "metadata": {
        "id": "u00in2fYkf5b"
      },
      "execution_count": null,
      "outputs": []
    },
    {
      "cell_type": "code",
      "source": [
        "plt.plot(r.history['loss'],label='loss')\n",
        "plt.plot(r.history['val_loss'],label='val_loss')\n",
        "plt.legend()"
      ],
      "metadata": {
        "id": "KKXpusFYkkjr"
      },
      "execution_count": null,
      "outputs": []
    },
    {
      "cell_type": "code",
      "source": [
        "plt.plot(r.history['accuracy'],label='acc')\n",
        "plt.plot(r.history['val_accuracy'],label='val_acc')\n",
        "plt.legend()"
      ],
      "metadata": {
        "id": "nx24dzKEkmRx"
      },
      "execution_count": null,
      "outputs": []
    },
    {
      "cell_type": "code",
      "source": [
        "#LSTM using GlobalMaxPooling\n",
        "inputs = np.expand_dims(X,-1)\n",
        "i = Input(shape=(T,D))\n",
        "x = LSTM(5,return_sequences=True)(i)\n",
        "x = GlobalMaxPooling1D()(x)\n",
        "x = Dense(1,activation='sigmoid')(x)\n",
        "\n",
        "model= Model(i,x)\n",
        "model.compile(\n",
        "    loss = 'binary_crossentropy',\n",
        "    optimizer = Adam(lr=0.1),\n",
        "    metrics = ['accuracy']\n",
        ")\n",
        "\n",
        "r = model.fit(\n",
        "    inputs,Y,\n",
        "    epochs=100,\n",
        "    validation_split=0.5,\n",
        "    )"
      ],
      "metadata": {
        "id": "phSWsTrRpQ3x"
      },
      "execution_count": null,
      "outputs": []
    },
    {
      "cell_type": "code",
      "source": [
        "plt.plot(r.history['loss'],label='loss')\n",
        "plt.plot(r.history['val_loss'],label='val_loss')\n",
        "plt.legend()"
      ],
      "metadata": {
        "id": "gPG-E62RqEZC"
      },
      "execution_count": null,
      "outputs": []
    },
    {
      "cell_type": "code",
      "source": [
        "plt.plot(r.history['accuracy'],label='acc')\n",
        "plt.plot(r.history['val_accuracy'],label='val_acc')\n",
        "plt.legend()"
      ],
      "metadata": {
        "id": "d5-RtM7jqHI5"
      },
      "execution_count": null,
      "outputs": []
    }
  ]
}