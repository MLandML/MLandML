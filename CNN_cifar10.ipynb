{
  "nbformat": 4,
  "nbformat_minor": 0,
  "metadata": {
    "colab": {
      "private_outputs": true,
      "provenance": [],
      "authorship_tag": "ABX9TyOh/YU8zR3vKWInRQAwrZce",
      "include_colab_link": true
    },
    "kernelspec": {
      "name": "python3",
      "display_name": "Python 3"
    },
    "language_info": {
      "name": "python"
    },
    "accelerator": "GPU"
  },
  "cells": [
    {
      "cell_type": "markdown",
      "metadata": {
        "id": "view-in-github",
        "colab_type": "text"
      },
      "source": [
        "<a href=\"https://colab.research.google.com/github/MLandML/MLandML/blob/learning_projects/CNN_cifar10.ipynb\" target=\"_parent\"><img src=\"https://colab.research.google.com/assets/colab-badge.svg\" alt=\"Open In Colab\"/></a>"
      ]
    },
    {
      "cell_type": "code",
      "execution_count": null,
      "metadata": {
        "id": "GYZdF4s28CSg"
      },
      "outputs": [],
      "source": [
        "import tensorflow as tf\n",
        "import matplotlib.pyplot as plt"
      ]
    },
    {
      "cell_type": "code",
      "source": [
        "from tensorflow.keras.layers import Input,Conv2D,Dense,Dropout,Flatten,GlobalMaxPooling2D,MaxPooling2D,BatchNormalization\n",
        "from tensorflow.keras.models import Model"
      ],
      "metadata": {
        "id": "jj-GxGYB8XFT"
      },
      "execution_count": null,
      "outputs": []
    },
    {
      "cell_type": "code",
      "source": [
        "cifar_10 = tf.keras.datasets.cifar10\n",
        "(x_train,y_train),(x_test,y_test) = cifar_10.load_data()\n",
        "x_train,x_test = x_train/255.0 , x_test/255.0\n",
        "y_train,y_test = y_train.flatten(),y_test.flatten()\n",
        "print(x_train.shape)\n",
        "y_train.shape"
      ],
      "metadata": {
        "id": "bkycTNhd-Nkj"
      },
      "execution_count": null,
      "outputs": []
    },
    {
      "cell_type": "code",
      "source": [
        "K = len(set(y_train))\n",
        "K"
      ],
      "metadata": {
        "id": "mlp5a9lwAI_c"
      },
      "execution_count": null,
      "outputs": []
    },
    {
      "cell_type": "code",
      "source": [
        "i = Input(shape=x_train[0].shape)\n",
        "x = Conv2D(32,(3,3),activation='relu',padding='same')(i)\n",
        "x = BatchNormalization()(x)\n",
        "x = Conv2D(32,(3,3),activation='relu',padding='same')(x)\n",
        "x = BatchNormalization()(x)\n",
        "x = MaxPooling2D((2,2))(x)\n",
        "x = Conv2D(64,(3,3),activation='relu',padding='same')(x)\n",
        "x = BatchNormalization()(x)\n",
        "x = Conv2D(64,(3,3),activation='relu',padding='same')(x)\n",
        "x = BatchNormalization()(x)\n",
        "x = MaxPooling2D((2,2))(x)\n",
        "x = Conv2D(128,(3,3),activation='relu',padding='same')(x)\n",
        "x = BatchNormalization()(x)\n",
        "x = Conv2D(128,(3,3),activation='relu',padding='same')(x)\n",
        "x = BatchNormalization()(x)\n",
        "x = MaxPooling2D((2,2))(x)\n",
        "\n",
        "x = Flatten()(x)\n",
        "x = Dense(1024,activation='relu')(x)\n",
        "x = Dropout(0.3)(x)\n",
        "x = Dense(K,activation='softmax')(x)\n",
        "\n",
        "model = Model(i,x)\n",
        "model.compile(optimizer='adam',\n",
        "              loss='sparse_categorical_crossentropy',\n",
        "              metrics=['accuracy'])\n",
        "r = model.fit(x_train,y_train,validation_data=(x_test,y_test),epochs=50)"
      ],
      "metadata": {
        "id": "IP2O3pWgAYQL"
      },
      "execution_count": null,
      "outputs": []
    },
    {
      "cell_type": "code",
      "source": [
        "batch_size = 32\n",
        "data_generator = tf.keras.preprocessing.image.ImageDataGenerator(width_shift_range=0.1,height_shift_range=0.1,horizontal_flip=True)\n",
        "train_generator = data_generator.flow(x_train,y_train,batch_size)\n",
        "steps_per_epoch = x_train.shape[0] // batch_size\n",
        "r = model.fit_generator(train_generator,validation_data=(x_test,y_test),steps_per_epoch = steps_per_epoch, epochs=25)"
      ],
      "metadata": {
        "id": "Cj1U37wlomBb"
      },
      "execution_count": null,
      "outputs": []
    },
    {
      "cell_type": "code",
      "source": [
        "model.summary()"
      ],
      "metadata": {
        "id": "hCWaw8BGoAYF"
      },
      "execution_count": null,
      "outputs": []
    },
    {
      "cell_type": "code",
      "source": [
        "plt.plot(r.history['loss'],label='loss')\n",
        "plt.plot(r.history['val_loss'],label='val_loss')\n",
        "plt.legend()"
      ],
      "metadata": {
        "id": "zLPWsjGhFV0w"
      },
      "execution_count": null,
      "outputs": []
    },
    {
      "cell_type": "code",
      "source": [
        "plt.plot(r.history['accuracy'],label='acc')\n",
        "plt.plot(r.history['val_accuracy'],label='val_acc')\n",
        "plt.legend()"
      ],
      "metadata": {
        "id": "sk5SDJNGFpNP"
      },
      "execution_count": null,
      "outputs": []
    },
    {
      "cell_type": "code",
      "source": [
        "import numpy as np\n",
        "y_pred = model.predict(x_test).argmax(axis=1)\n",
        "misclassified_idx = np.where(y_pred != y_test)[0]\n",
        "i = np.random.choice(misclassified_idx)\n",
        "plt.imshow(x_test[i])\n",
        "print('true Label:%s Predicted Label:%s'% (y_test[i],y_pred[i]))"
      ],
      "metadata": {
        "id": "ixcmRkw5F8ks"
      },
      "execution_count": null,
      "outputs": []
    }
  ]
}