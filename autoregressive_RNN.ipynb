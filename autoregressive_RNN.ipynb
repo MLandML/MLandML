{
  "nbformat": 4,
  "nbformat_minor": 0,
  "metadata": {
    "colab": {
      "private_outputs": true,
      "provenance": [],
      "authorship_tag": "ABX9TyPds6MXG8aT5KlpqH7630g4",
      "include_colab_link": true
    },
    "kernelspec": {
      "name": "python3",
      "display_name": "Python 3"
    },
    "language_info": {
      "name": "python"
    }
  },
  "cells": [
    {
      "cell_type": "markdown",
      "metadata": {
        "id": "view-in-github",
        "colab_type": "text"
      },
      "source": [
        "<a href=\"https://colab.research.google.com/github/MLandML/MLandML/blob/learning_projects/autoregressive_RNN.ipynb\" target=\"_parent\"><img src=\"https://colab.research.google.com/assets/colab-badge.svg\" alt=\"Open In Colab\"/></a>"
      ]
    },
    {
      "cell_type": "markdown",
      "source": [
        "PseudoCode:\n",
        "given:\n",
        "Wxh: input to hidden weight;\n",
        "Whh: hidden to hidden weight;\n",
        "bh: hidden bias;\n",
        "Wo: hidden to output weight;\n",
        "bo: output bias;\n",
        "X - TxD input matrix\n",
        "\n",
        "tanh hidden activation;\n",
        "softmax output activation\n",
        "\n",
        "\n",
        "```\n",
        "Yhat = []\n",
        "h_last = 0\n",
        "for t in range(T):\n",
        "    h_t = tanh(X[t].dot(Wxh)+ h_last.dot(Whh) + bh)\n",
        "    yhat = sigmoid(h_t.dot(Wo) + bo)\n",
        "    Yhat.append(yhat)\n",
        "    h_last = h_t\n",
        "```\n",
        "\n"
      ],
      "metadata": {
        "id": "MfQX6BvSXLy6"
      }
    },
    {
      "cell_type": "code",
      "source": [
        "import tensorflow as tf\n",
        "import matplotlib.pyplot as plt\n",
        "import numpy as np\n",
        "\n",
        "from tensorflow.keras.layers import Input,SimpleRNN,Dense,Flatten\n",
        "from tensorflow.keras.models import Model\n",
        "from tensorflow.keras.optimizers import SGD,Adam\n"
      ],
      "metadata": {
        "id": "FvH3Dw0IZ6SB"
      },
      "execution_count": null,
      "outputs": []
    },
    {
      "cell_type": "code",
      "source": [
        "series = np.sin(0.1*np.arange(200)) + 0.1*np.random.randn(200)\n",
        "plt.plot(series)"
      ],
      "metadata": {
        "id": "m2cJFNdtfxfj"
      },
      "execution_count": null,
      "outputs": []
    },
    {
      "cell_type": "code",
      "source": [
        "T = 10\n",
        "D = 1\n",
        "X = []\n",
        "Y = []\n",
        "\n",
        "for t in range(len(series)-T):\n",
        "  x = series[t:t+T]\n",
        "  X.append(x)\n",
        "  y = series[t+T]\n",
        "  Y.append(y)\n",
        "\n",
        "X = np.array(X).reshape(-1,T,D)\n",
        "Y = np.array(Y)\n",
        "N = len(X)"
      ],
      "metadata": {
        "id": "IFLmHJOYgIIa"
      },
      "execution_count": null,
      "outputs": []
    },
    {
      "cell_type": "code",
      "source": [
        "Y.shape"
      ],
      "metadata": {
        "id": "-gJWXG38sKQf"
      },
      "execution_count": null,
      "outputs": []
    },
    {
      "cell_type": "code",
      "source": [
        "i = Input(shape = (T,D))\n",
        "x = SimpleRNN(5,activation=None)(i) #default activation = tanh\n",
        "x = Dense(1)(x)\n",
        "\n",
        "model = Model(i,x)\n",
        "\n",
        "model.compile(\n",
        "    loss = 'mse',\n",
        "    optimizer = Adam(lr=0.1)\n",
        ")\n",
        "\n",
        "r = model.fit(X[:-N//2],Y[:-N//2],validation_data=(X[-N//2:],Y[-N//2:]),epochs=100)"
      ],
      "metadata": {
        "id": "5ZKdx3D5jA9w"
      },
      "execution_count": null,
      "outputs": []
    },
    {
      "cell_type": "code",
      "source": [
        "plt.plot(r.history['loss'],label='loss')\n",
        "plt.plot(r.history['val_loss'],label='val_loss')\n",
        "plt.legend()"
      ],
      "metadata": {
        "id": "7ZxG7zGkuBjN"
      },
      "execution_count": null,
      "outputs": []
    },
    {
      "cell_type": "code",
      "source": [
        "val_targets = Y[-N//2:]\n",
        "val_preds = []\n",
        "last_x = X[-N//2]\n",
        "\n",
        "while len(val_preds)<len(val_targets):\n",
        "  p = model.predict(last_x.reshape(1,-1,1))[0,0]\n",
        "  val_preds.append(p)\n",
        "  last_x = np.roll(last_x,-1)\n",
        "  last_x[-1] = p"
      ],
      "metadata": {
        "id": "fHegD5a3uzc9"
      },
      "execution_count": null,
      "outputs": []
    },
    {
      "cell_type": "code",
      "source": [
        "plt.plot(val_targets,label='forecasted_target')\n",
        "plt.plot(val_preds,label='forecasted_prediction')\n",
        "plt.legend()"
      ],
      "metadata": {
        "id": "S9tqu-_8xop2"
      },
      "execution_count": null,
      "outputs": []
    }
  ]
}