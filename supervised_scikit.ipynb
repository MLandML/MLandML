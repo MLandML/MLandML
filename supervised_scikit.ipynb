{
  "cells": [
    {
      "cell_type": "markdown",
      "metadata": {
        "id": "view-in-github",
        "colab_type": "text"
      },
      "source": [
        "<a href=\"https://colab.research.google.com/github/MLandML/MLandML/blob/main/supervised_scikit.ipynb\" target=\"_parent\"><img src=\"https://colab.research.google.com/assets/colab-badge.svg\" alt=\"Open In Colab\"/></a>"
      ]
    },
    {
      "cell_type": "code",
      "execution_count": null,
      "metadata": {
        "id": "DwDxQAmjpK27"
      },
      "outputs": [],
      "source": [
        "import os\n",
        "import tarfile\n",
        "from six.moves import urllib\n",
        "DOWNLOAD_ROOT = \"https://raw.githubusercontent.com/ageron/handson-ml/master/\"\n",
        "HOUSING_PATH = os.path.join(\"datasets\", \"housing\")\n",
        "HOUSING_URL = DOWNLOAD_ROOT + HOUSING_PATH + \"/housing.tgz\"\n",
        "def fetch_housing_data(housing_url=HOUSING_URL, housing_path=HOUSING_PATH):\n",
        "    if not os.path.isdir(housing_path):\n",
        "        os.makedirs(housing_path)\n",
        "        tgz_path = os.path.join(housing_path, \"housing.tgz\")\n",
        "        urllib.request.urlretrieve(housing_url, tgz_path)\n",
        "        housing_tgz = tarfile.open(tgz_path)\n",
        "        housing_tgz.extractall(path=housing_path)\n",
        "        housing_tgz.close()\n"
      ]
    },
    {
      "cell_type": "code",
      "execution_count": null,
      "metadata": {
        "id": "TamwNG0fpK2-"
      },
      "outputs": [],
      "source": [
        "import pandas as pd\n",
        "import numpy as np\n",
        "\n",
        "def load_housing_data(housing_path=HOUSING_PATH):\n",
        "    csv_path=os.path.join(housing_path,'housing.csv')\n",
        "    return pd.read_csv(csv_path)"
      ]
    },
    {
      "cell_type": "code",
      "execution_count": null,
      "metadata": {
        "id": "-O1BgxKKpK3A"
      },
      "outputs": [],
      "source": [
        "fetch_housing_data()\n",
        "housing = load_housing_data()\n",
        "housing.head()"
      ]
    },
    {
      "cell_type": "code",
      "execution_count": null,
      "metadata": {
        "id": "deqRYpn2pK3B"
      },
      "outputs": [],
      "source": [
        "housing.info()"
      ]
    },
    {
      "cell_type": "code",
      "execution_count": null,
      "metadata": {
        "id": "gMrFg_V7pK3D"
      },
      "outputs": [],
      "source": [
        "housing[\"ocean_proximity\"].value_counts()"
      ]
    },
    {
      "cell_type": "code",
      "execution_count": null,
      "metadata": {
        "id": "syWFW2Z5pK3D"
      },
      "outputs": [],
      "source": [
        "housing.describe()"
      ]
    },
    {
      "cell_type": "code",
      "execution_count": null,
      "metadata": {
        "id": "LzbWkHcKpK3E"
      },
      "outputs": [],
      "source": [
        "import matplotlib.pyplot as plt\n",
        "housing.hist(bins=50,figsize=(20,15))\n",
        "plt.show()"
      ]
    },
    {
      "cell_type": "code",
      "execution_count": null,
      "metadata": {
        "id": "Nbr1IwfMpK3E"
      },
      "outputs": [],
      "source": [
        "from sklearn.model_selection import train_test_split\n",
        "train_set,test_set=train_test_split(housing,test_size=0.2,random_state=42)"
      ]
    },
    {
      "cell_type": "code",
      "execution_count": null,
      "metadata": {
        "id": "2u7K5BF5pK3F"
      },
      "outputs": [],
      "source": [
        "housing[\"income_cat\"]=np.ceil(housing[\"median_income\"]/1.5)\n",
        "housing[\"income_cat\"].where(housing[\"income_cat\"]<5,5.0,inplace=True)"
      ]
    },
    {
      "cell_type": "code",
      "execution_count": null,
      "metadata": {
        "id": "d88fffs-pK3H"
      },
      "outputs": [],
      "source": [
        "from sklearn.model_selection import StratifiedShuffleSplit\n",
        "split=StratifiedShuffleSplit(n_splits=1,test_size=0.2,random_state=42)\n",
        "\n",
        "for train_index,test_index in split.split(housing,housing[\"income_cat\"]):\n",
        "    strat_train_set=housing.loc[train_index]\n",
        "    strat_test_set=housing.loc[test_index]"
      ]
    },
    {
      "cell_type": "code",
      "execution_count": null,
      "metadata": {
        "id": "zJ9Knc6EpK3H"
      },
      "outputs": [],
      "source": [
        "housing[\"income_cat\"].value_counts()/len(housing[\"households\"])"
      ]
    },
    {
      "cell_type": "code",
      "execution_count": null,
      "metadata": {
        "id": "ijOsZKCBpK3I"
      },
      "outputs": [],
      "source": [
        "for set in (strat_train_set,strat_test_set):\n",
        "    set.drop(\"income_cat\",axis=1,inplace=True)"
      ]
    },
    {
      "cell_type": "code",
      "execution_count": null,
      "metadata": {
        "id": "mU0fEP-npK3J"
      },
      "outputs": [],
      "source": [
        "housing=strat_train_set.copy()"
      ]
    },
    {
      "cell_type": "code",
      "execution_count": null,
      "metadata": {
        "id": "_9gE_ZF9pK3J"
      },
      "outputs": [],
      "source": [
        "housing.plot(kind=\"scatter\",x=\"latitude\",y=\"longitude\",alpha=0.4,s=housing[\"population\"]/100,c=\"median_house_value\",cmap=plt.get_cmap(\"jet\"),\n",
        "             colorbar=True)\n",
        "plt.legend()"
      ]
    },
    {
      "cell_type": "code",
      "execution_count": null,
      "metadata": {
        "id": "xCrelqDLpK3J"
      },
      "outputs": [],
      "source": [
        "corr_matrix=housing.corr()\n",
        "corr_matrix[\"median_house_value\"].sort_values(ascending=False)"
      ]
    },
    {
      "cell_type": "code",
      "execution_count": null,
      "metadata": {
        "id": "-Zwi9yzqpK3K"
      },
      "outputs": [],
      "source": [
        "from pandas.plotting import scatter_matrix\n",
        "attributes=[\"median_house_value\",\"median_income\",\"total_rooms\",\"housing_median_age\"]\n",
        "scatter_matrix(housing[attributes],figsize=(12,8))"
      ]
    },
    {
      "cell_type": "code",
      "execution_count": null,
      "metadata": {
        "id": "4sk_ims3pK3K"
      },
      "outputs": [],
      "source": [
        "housing.plot(kind=\"scatter\",x=\"median_income\",y=\"median_house_value\",alpha=0.1)"
      ]
    },
    {
      "cell_type": "code",
      "execution_count": null,
      "metadata": {
        "id": "1WWNDIcgpK3L"
      },
      "outputs": [],
      "source": [
        "housing[\"rooms_per_household\"]=housing[\"total_rooms\"]/housing[\"households\"]\n",
        "housing[\"bedrooms_per_household\"]=housing[\"total_bedrooms\"]/housing[\"households\"]\n",
        "housing[\"population_per_household\"]=housing[\"population\"]/housing[\"households\"]\n",
        "\n",
        "corr_matrix=housing.corr()\n",
        "corr_matrix[\"median_house_value\"].sort_values(ascending=False)"
      ]
    },
    {
      "cell_type": "code",
      "execution_count": null,
      "metadata": {
        "id": "VQ6ajDJdpK3M"
      },
      "outputs": [],
      "source": [
        "housing_labels=strat_train_set[\"median_house_value\"].copy()\n",
        "housing=strat_train_set.drop(\"median_house_value\",axis=1)\n",
        "\n"
      ]
    },
    {
      "cell_type": "code",
      "execution_count": null,
      "metadata": {
        "id": "cG6qR5UnpK3M"
      },
      "outputs": [],
      "source": [
        "#Data Cleaning using Imputer\n",
        "from sklearn.impute import SimpleImputer\n",
        "imputer=SimpleImputer(strategy=\"median\")\n",
        "\n",
        "housing_num=housing.drop(\"ocean_proximity\",axis=1)\n",
        "\n",
        "x=imputer.fit_transform(housing_num)\n",
        "housing_tr=pd.DataFrame(x,columns=housing_num.columns)"
      ]
    },
    {
      "cell_type": "code",
      "execution_count": null,
      "metadata": {
        "id": "JPClucw2pK3M"
      },
      "outputs": [],
      "source": [
        "#One_hot_encoding and sparse matrix\n",
        "\"\"\"from sklearn.preprocessing import LabelEncoder\n",
        "encoder=LabelEncoder()\n",
        "housing_cat=housing[\"ocean_proximity\"]\n",
        "housing_cat_encoded=encoder.fit_transform(housing_cat)\n",
        "\n",
        "from sklearn.preprocessing import OneHotEncoder\n",
        "encoder=OneHotEncoder()\n",
        "housing_cat_1hot=encoder.fit_transform(housing_cat_encoded.reshape(-1,1))\"\"\""
      ]
    },
    {
      "cell_type": "code",
      "execution_count": null,
      "metadata": {
        "id": "SlWeZewKpK3M"
      },
      "outputs": [],
      "source": [
        "#One_hot_encoding and sparse matrix (efficient way)\n",
        "from sklearn.preprocessing import LabelBinarizer\n",
        "encoder=LabelBinarizer(sparse_output=True)\n",
        "housing_cat=housing[\"ocean_proximity\"]\n",
        "housing_cat_1hot=encoder.fit_transform(housing_cat)\n",
        "print(housing_cat_1hot)"
      ]
    },
    {
      "cell_type": "code",
      "execution_count": null,
      "metadata": {
        "id": "qBgXWqYSpK3M"
      },
      "outputs": [],
      "source": [
        "#Custom Transformations\n",
        "from sklearn.base import BaseEstimator, TransformerMixin\n",
        "rooms_ix,bedrooms_ix,population_ix,households_ix=3,4,5,6\n",
        "\n",
        "class CombinedAttributesAddr(BaseEstimator, TransformerMixin):\n",
        "    def __init__(self,add_bedrooms_per_room=True):\n",
        "        self.add_bedrooms_per_room = add_bedrooms_per_room\n",
        "    def fit(self,X,y=None):\n",
        "        return self\n",
        "    def transform(self,X,y=None):\n",
        "        rooms_per_household=X[:,rooms_ix]/X[:,households_ix]\n",
        "        population_per_household=X[:,population_ix]/X[:,households_ix]\n",
        "        if self.add_bedrooms_per_room:\n",
        "            bedrooms_per_room=X[:,bedrooms_ix]/X[:,rooms_ix]\n",
        "            return np.c_[X,bedrooms_per_room,rooms_per_household,population_per_household]\n",
        "        else:\n",
        "            return np.c_[X,rooms_per_household,population_per_household]\n",
        "        \n",
        "attr_addr=CombinedAttributesAddr(add_bedrooms_per_room=False)\n",
        "housing_extra_attr=attr_addr.transform(housing.values)\n"
      ]
    },
    {
      "cell_type": "code",
      "execution_count": null,
      "metadata": {
        "id": "LPucmdMYpK3N"
      },
      "outputs": [],
      "source": [
        "#Feature Scaling\n",
        "#Transformational Pipelines\n",
        "\n",
        "\n",
        "from sklearn.pipeline import Pipeline\n",
        "from sklearn.preprocessing import StandardScaler\n",
        "\n",
        "piepline=Pipeline([('imputer',SimpleImputer(strategy=\"median\")),\n",
        "                   ('attr_addr',CombinedAttributesAddr(add_bedrooms_per_room=False)),\n",
        "                   ('scaler',StandardScaler())])\n",
        "housing_num_tr=piepline.fit_transform(housing_num)\n",
        "\n",
        "from sklearn.pipeline import FeatureUnion\n",
        "\n",
        "class DataFrameSelector(BaseEstimator,TransformerMixin):\n",
        "    def __init__(self,attribute_names):\n",
        "        self.attribute_names=attribute_names\n",
        "    def fit(self,X,y=None):\n",
        "        return self\n",
        "    def transform(self,X):\n",
        "        return X[self.attribute_names].values\n",
        "\n",
        "class MyLabelBinarizer(TransformerMixin):\n",
        "    def __init__(self,*args,**kwargs):\n",
        "        self.encoder=LabelBinarizer()\n",
        "    def fit(self,X,y=0):\n",
        "        self.encoder.fit(X)\n",
        "        return self\n",
        "    def transform(self,X,y=0):\n",
        "        return self.encoder.transform(X)\n",
        "\n",
        "num_attr=list(housing_num)\n",
        "cat_attr=[\"ocean_proximity\"]\n",
        "\n",
        "num_pipeline=Pipeline([('selector', DataFrameSelector(num_attr)),\n",
        "                       ('imputer',SimpleImputer(strategy=\"median\")),\n",
        "                       ('attr_addr',CombinedAttributesAddr(add_bedrooms_per_room=False)),\n",
        "                       ('scaler',StandardScaler())])\n",
        "\n",
        "cat_pipeline=Pipeline([('selector', DataFrameSelector(cat_attr)),\n",
        "                       ('label_binarizer',MyLabelBinarizer())])\n",
        "\n",
        "full_pipeline=FeatureUnion(transformer_list=[('num_pipeline',num_pipeline),\n",
        "                                         ('cat_pipeline',cat_pipeline)])\n"
      ]
    },
    {
      "cell_type": "code",
      "execution_count": null,
      "metadata": {
        "id": "ilvxUHChpK3N"
      },
      "outputs": [],
      "source": [
        "housing_prepared=full_pipeline.fit_transform(housing)\n",
        "housing_prepared\n",
        "housing_prepared.shape"
      ]
    },
    {
      "cell_type": "code",
      "execution_count": null,
      "metadata": {
        "id": "a35NZ2SxpK3P"
      },
      "outputs": [],
      "source": [
        "from sklearn.linear_model import LinearRegression\n",
        "lin_reg=LinearRegression()\n",
        "lin_reg.fit(housing_prepared,housing_labels)"
      ]
    },
    {
      "cell_type": "code",
      "execution_count": null,
      "metadata": {
        "id": "NlngC6UspK3P"
      },
      "outputs": [],
      "source": [
        "some_data=housing.iloc[:5]\n",
        "some_labels=housing_labels.iloc[:5]\n",
        "some_data_prepared=full_pipeline.transform(some_data)\n",
        "\n",
        "print(\"Predictions:\\t\\t\\t\",lin_reg.predict(some_data_prepared))\n",
        "print(\"Labels:\\t\\t\\t\",list(some_labels))"
      ]
    },
    {
      "cell_type": "code",
      "execution_count": null,
      "metadata": {
        "id": "bXBBesKepK3P"
      },
      "outputs": [],
      "source": [
        "from sklearn.metrics import mean_squared_error\n",
        "housing_predictions=lin_reg.predict(housing_prepared)\n",
        "lin_mse=mean_squared_error(housing_labels,housing_predictions)\n",
        "lin_rmse= np.sqrt(lin_mse)\n",
        "lin_rmse"
      ]
    },
    {
      "cell_type": "code",
      "execution_count": null,
      "metadata": {
        "id": "i4bkKnpNpK3Q"
      },
      "outputs": [],
      "source": [
        "from sklearn.tree import DecisionTreeRegressor \n",
        "tree_reg=DecisionTreeRegressor()\n",
        "tree_reg.fit(housing_prepared,housing_labels)"
      ]
    },
    {
      "cell_type": "code",
      "execution_count": null,
      "metadata": {
        "id": "99HoT9ospK3Q"
      },
      "outputs": [],
      "source": [
        "\n",
        "housing_predictions = tree_reg.predict(housing_prepared)\n",
        "tree_mse = mean_squared_error(housing_labels,housing_predictions)\n",
        "tree_rmse = np.sqrt(tree_mse)\n",
        "tree_rmse"
      ]
    },
    {
      "cell_type": "code",
      "execution_count": null,
      "metadata": {
        "id": "igMarWNCpK3R"
      },
      "outputs": [],
      "source": [
        "from sklearn.model_selection import cross_val_score\n",
        "tree_score= cross_val_score(tree_reg,housing_prepared,housing_labels,scoring=\"neg_mean_squared_error\",cv=10)\n",
        "tree_score_rmse=np.sqrt(-tree_score)\n",
        "tree_score_rmse"
      ]
    },
    {
      "cell_type": "code",
      "execution_count": null,
      "metadata": {
        "id": "6nBkwL-KpK3R"
      },
      "outputs": [],
      "source": [
        "def displayscore(score):\n",
        "    print(\"Scores: \",score)\n",
        "    print(\"Mean: \",score.mean())\n",
        "    print(\"Standard_Deviation: \",score.std())\n",
        "\n",
        "displayscore(tree_score_rmse)"
      ]
    },
    {
      "cell_type": "code",
      "execution_count": null,
      "metadata": {
        "id": "uDp4agHjpK3R"
      },
      "outputs": [],
      "source": [
        "from sklearn.model_selection import cross_val_score\n",
        "lin_score= cross_val_score(lin_reg,housing_prepared,housing_labels,scoring=\"neg_mean_squared_error\",cv=10)\n",
        "lin_score_rmse=np.sqrt(-lin_score)\n",
        "\n",
        "displayscore(lin_score_rmse)"
      ]
    },
    {
      "cell_type": "code",
      "execution_count": null,
      "metadata": {
        "id": "KGZGVzM6pK3R"
      },
      "outputs": [],
      "source": [
        "from sklearn.ensemble import RandomForestRegressor \n",
        "rf_reg=RandomForestRegressor()\n",
        "rf_reg.fit(housing_prepared,housing_labels)\n",
        "\n",
        "housing_predictions=rf_reg.predict(housing_prepared)\n",
        "rf_mse=mean_squared_error(housing_predictions,housing_labels)\n",
        "rf_rmse = np.sqrt(rf_mse)\n",
        "\n",
        "rf_score = cross_val_score(rf_reg,housing_prepared,housing_labels,scoring=\"neg_mean_squared_error\",cv=10)\n",
        "rf_score_rmse= np.sqrt(-rf_score)\n",
        "\n",
        "displayscore(rf_score_rmse)"
      ]
    },
    {
      "cell_type": "code",
      "source": [
        "!pip install joblib"
      ],
      "metadata": {
        "id": "4VtMaeZxAv5m"
      },
      "execution_count": null,
      "outputs": []
    },
    {
      "cell_type": "code",
      "source": [
        "import joblib\n",
        "joblib.dump(lin_reg,'lin_reg.pkl')\n",
        "joblib.dump(tree_reg,'tree_reg.pkl')\n",
        "joblib.dump(rf_reg,'rf_reg.pkl')"
      ],
      "metadata": {
        "id": "fIBOtLAd-hTX"
      },
      "execution_count": null,
      "outputs": []
    },
    {
      "cell_type": "code",
      "source": [
        "#GridSearchCV\n",
        "from sklearn.model_selection import GridSearchCV\n",
        "param_grid=[{'n_estimators':[3,10,30],'max_features':[2,4,6,8]},\n",
        "            {'bootstrap':[False],'n_estimators':[3,10],'max_features':[2,3,4]}]\n",
        "\n",
        "grid_search= GridSearchCV(rf_reg,param_grid,scoring=\"neg_mean_squared_error\",cv=10)\n",
        "grid_search.fit(housing_prepared,housing_labels)\n",
        "\n"
      ],
      "metadata": {
        "id": "ZurFhrTTBZSF"
      },
      "execution_count": null,
      "outputs": []
    },
    {
      "cell_type": "code",
      "source": [
        "grid_search.best_params_\n",
        "grid_search.best_estimator_"
      ],
      "metadata": {
        "id": "LeFa5p7UF_ya"
      },
      "execution_count": null,
      "outputs": []
    },
    {
      "cell_type": "code",
      "source": [
        "cvres= grid_search.cv_results_\n",
        "for mean_score , params in zip(cvres[\"mean_test_score\"],cvres[\"params\"]):\n",
        "  print(np.sqrt(-mean_score),params)"
      ],
      "metadata": {
        "id": "Tsq6CeL3NDsl"
      },
      "execution_count": null,
      "outputs": []
    },
    {
      "cell_type": "code",
      "source": [
        "#RandomSearch\n",
        "\n",
        "from sklearn.model_selection import RandomizedSearchCV\n",
        "random_search = RandomizedSearchCV(rf_reg,param_grid,scoring='neg_mean_squared_error',cv=10,n_iter=10)\n",
        "random_search.fit(housing_prepared,housing_labels)"
      ],
      "metadata": {
        "id": "88hjfBUfQ-Ig"
      },
      "execution_count": null,
      "outputs": []
    },
    {
      "cell_type": "code",
      "source": [
        "random_search.best_estimator_"
      ],
      "metadata": {
        "id": "0dhuqSihc5yT"
      },
      "execution_count": null,
      "outputs": []
    },
    {
      "cell_type": "code",
      "source": [
        "cvrandom_res = random_search.cv_results_\n",
        "for mean_score,params in zip(cvrandom_res[\"mean_test_score\"],cvrandom_res[\"params\"]):\n",
        "  print(np.sqrt(-mean_score),params)"
      ],
      "metadata": {
        "id": "iOyCACo8dUGV"
      },
      "execution_count": null,
      "outputs": []
    }
  ],
  "metadata": {
    "kernelspec": {
      "display_name": "Python 3.8.10 ('venv': venv)",
      "language": "python",
      "name": "python3"
    },
    "language_info": {
      "codemirror_mode": {
        "name": "ipython",
        "version": 3
      },
      "file_extension": ".py",
      "mimetype": "text/x-python",
      "name": "python",
      "nbconvert_exporter": "python",
      "pygments_lexer": "ipython3",
      "version": "3.8.10"
    },
    "orig_nbformat": 4,
    "vscode": {
      "interpreter": {
        "hash": "b5d1132802a0cd7a6e025ccb4e55fbd3ab80953be5fccaccdf8b15842351fc32"
      }
    },
    "colab": {
      "name": "supervised_scikit.ipynb",
      "private_outputs": true,
      "provenance": [],
      "include_colab_link": true
    },
    "gpuClass": "standard"
  },
  "nbformat": 4,
  "nbformat_minor": 0
}