{
  "nbformat": 4,
  "nbformat_minor": 0,
  "metadata": {
    "colab": {
      "provenance": [],
      "authorship_tag": "ABX9TyP5/muXPEEeYWTqU3VxRU4R",
      "include_colab_link": true
    },
    "kernelspec": {
      "name": "python3",
      "display_name": "Python 3"
    },
    "language_info": {
      "name": "python"
    }
  },
  "cells": [
    {
      "cell_type": "markdown",
      "metadata": {
        "id": "view-in-github",
        "colab_type": "text"
      },
      "source": [
        "<a href=\"https://colab.research.google.com/github/MLandML/MLandML/blob/main/TF_lin_classification.ipynb\" target=\"_parent\"><img src=\"https://colab.research.google.com/assets/colab-badge.svg\" alt=\"Open In Colab\"/></a>"
      ]
    },
    {
      "cell_type": "code",
      "execution_count": 1,
      "metadata": {
        "id": "UaT3yGusA98Q"
      },
      "outputs": [],
      "source": [
        "import tensorflow as tf"
      ]
    },
    {
      "cell_type": "code",
      "source": [
        "from sklearn.datasets import load_breast_cancer\n",
        "\n",
        "data = load_breast_cancer()"
      ],
      "metadata": {
        "id": "aZrc9QUNBOmT"
      },
      "execution_count": 2,
      "outputs": []
    },
    {
      "cell_type": "code",
      "source": [
        "type(data)"
      ],
      "metadata": {
        "colab": {
          "base_uri": "https://localhost:8080/"
        },
        "id": "V83OlQXJCSKD",
        "outputId": "7c266610-f997-4a6e-a129-bc6f03e25991"
      },
      "execution_count": 3,
      "outputs": [
        {
          "output_type": "execute_result",
          "data": {
            "text/plain": [
              "sklearn.utils.Bunch"
            ]
          },
          "metadata": {},
          "execution_count": 3
        }
      ]
    },
    {
      "cell_type": "code",
      "source": [
        "data.keys()"
      ],
      "metadata": {
        "colab": {
          "base_uri": "https://localhost:8080/"
        },
        "id": "11E2d1STC6dH",
        "outputId": "171e7faf-5c17-4414-8a3b-666d3030e2d1"
      },
      "execution_count": 4,
      "outputs": [
        {
          "output_type": "execute_result",
          "data": {
            "text/plain": [
              "dict_keys(['data', 'target', 'frame', 'target_names', 'DESCR', 'feature_names', 'filename', 'data_module'])"
            ]
          },
          "metadata": {},
          "execution_count": 4
        }
      ]
    },
    {
      "cell_type": "code",
      "source": [
        "data.data.shape"
      ],
      "metadata": {
        "colab": {
          "base_uri": "https://localhost:8080/"
        },
        "id": "UYVK8L_mDC7F",
        "outputId": "641cc69b-bb58-4825-cfd6-ec49bc466945"
      },
      "execution_count": 5,
      "outputs": [
        {
          "output_type": "execute_result",
          "data": {
            "text/plain": [
              "(569, 30)"
            ]
          },
          "metadata": {},
          "execution_count": 5
        }
      ]
    },
    {
      "cell_type": "code",
      "source": [
        "data.target"
      ],
      "metadata": {
        "colab": {
          "base_uri": "https://localhost:8080/"
        },
        "id": "5YOA2Lw9DPbC",
        "outputId": "3ed71922-97ee-4627-975c-db834e50710e"
      },
      "execution_count": 6,
      "outputs": [
        {
          "output_type": "execute_result",
          "data": {
            "text/plain": [
              "array([0, 0, 0, 0, 0, 0, 0, 0, 0, 0, 0, 0, 0, 0, 0, 0, 0, 0, 0, 1, 1, 1,\n",
              "       0, 0, 0, 0, 0, 0, 0, 0, 0, 0, 0, 0, 0, 0, 0, 1, 0, 0, 0, 0, 0, 0,\n",
              "       0, 0, 1, 0, 1, 1, 1, 1, 1, 0, 0, 1, 0, 0, 1, 1, 1, 1, 0, 1, 0, 0,\n",
              "       1, 1, 1, 1, 0, 1, 0, 0, 1, 0, 1, 0, 0, 1, 1, 1, 0, 0, 1, 0, 0, 0,\n",
              "       1, 1, 1, 0, 1, 1, 0, 0, 1, 1, 1, 0, 0, 1, 1, 1, 1, 0, 1, 1, 0, 1,\n",
              "       1, 1, 1, 1, 1, 1, 1, 0, 0, 0, 1, 0, 0, 1, 1, 1, 0, 0, 1, 0, 1, 0,\n",
              "       0, 1, 0, 0, 1, 1, 0, 1, 1, 0, 1, 1, 1, 1, 0, 1, 1, 1, 1, 1, 1, 1,\n",
              "       1, 1, 0, 1, 1, 1, 1, 0, 0, 1, 0, 1, 1, 0, 0, 1, 1, 0, 0, 1, 1, 1,\n",
              "       1, 0, 1, 1, 0, 0, 0, 1, 0, 1, 0, 1, 1, 1, 0, 1, 1, 0, 0, 1, 0, 0,\n",
              "       0, 0, 1, 0, 0, 0, 1, 0, 1, 0, 1, 1, 0, 1, 0, 0, 0, 0, 1, 1, 0, 0,\n",
              "       1, 1, 1, 0, 1, 1, 1, 1, 1, 0, 0, 1, 1, 0, 1, 1, 0, 0, 1, 0, 1, 1,\n",
              "       1, 1, 0, 1, 1, 1, 1, 1, 0, 1, 0, 0, 0, 0, 0, 0, 0, 0, 0, 0, 0, 0,\n",
              "       0, 0, 1, 1, 1, 1, 1, 1, 0, 1, 0, 1, 1, 0, 1, 1, 0, 1, 0, 0, 1, 1,\n",
              "       1, 1, 1, 1, 1, 1, 1, 1, 1, 1, 1, 0, 1, 1, 0, 1, 0, 1, 1, 1, 1, 1,\n",
              "       1, 1, 1, 1, 1, 1, 1, 1, 1, 0, 1, 1, 1, 0, 1, 0, 1, 1, 1, 1, 0, 0,\n",
              "       0, 1, 1, 1, 1, 0, 1, 0, 1, 0, 1, 1, 1, 0, 1, 1, 1, 1, 1, 1, 1, 0,\n",
              "       0, 0, 1, 1, 1, 1, 1, 1, 1, 1, 1, 1, 1, 0, 0, 1, 0, 0, 0, 1, 0, 0,\n",
              "       1, 1, 1, 1, 1, 0, 1, 1, 1, 1, 1, 0, 1, 1, 1, 0, 1, 1, 0, 0, 1, 1,\n",
              "       1, 1, 1, 1, 0, 1, 1, 1, 1, 1, 1, 1, 0, 1, 1, 1, 1, 1, 0, 1, 1, 0,\n",
              "       1, 1, 1, 1, 1, 1, 1, 1, 1, 1, 1, 1, 0, 1, 0, 0, 1, 0, 1, 1, 1, 1,\n",
              "       1, 0, 1, 1, 0, 1, 0, 1, 1, 0, 1, 0, 1, 1, 1, 1, 1, 1, 1, 1, 0, 0,\n",
              "       1, 1, 1, 1, 1, 1, 0, 1, 1, 1, 1, 1, 1, 1, 1, 1, 1, 0, 1, 1, 1, 1,\n",
              "       1, 1, 1, 0, 1, 0, 1, 1, 0, 1, 1, 1, 1, 1, 0, 0, 1, 0, 1, 0, 1, 1,\n",
              "       1, 1, 1, 0, 1, 1, 0, 1, 0, 1, 0, 0, 1, 1, 1, 0, 1, 1, 1, 1, 1, 1,\n",
              "       1, 1, 1, 1, 1, 0, 1, 0, 0, 1, 1, 1, 1, 1, 1, 1, 1, 1, 1, 1, 1, 1,\n",
              "       1, 1, 1, 1, 1, 1, 1, 1, 1, 1, 1, 1, 0, 0, 0, 0, 0, 0, 1])"
            ]
          },
          "metadata": {},
          "execution_count": 6
        }
      ]
    },
    {
      "cell_type": "code",
      "source": [
        "data.target_names"
      ],
      "metadata": {
        "colab": {
          "base_uri": "https://localhost:8080/"
        },
        "id": "IjkuAWJeDVH6",
        "outputId": "8f28b378-51f9-4e25-9b51-085bb362472d"
      },
      "execution_count": 7,
      "outputs": [
        {
          "output_type": "execute_result",
          "data": {
            "text/plain": [
              "array(['malignant', 'benign'], dtype='<U9')"
            ]
          },
          "metadata": {},
          "execution_count": 7
        }
      ]
    },
    {
      "cell_type": "code",
      "source": [
        "from sklearn.model_selection import train_test_split\n",
        "\n",
        "X_train,X_test,y_train,y_test = train_test_split(data.data , data.target, test_size=0.33)\n",
        "\n",
        "N,D = X_train.shape"
      ],
      "metadata": {
        "id": "-grDHt9KDahF"
      },
      "execution_count": 8,
      "outputs": []
    },
    {
      "cell_type": "code",
      "source": [
        "from sklearn.preprocessing import StandardScaler\n",
        "\n",
        "scaler = StandardScaler()\n",
        "X_train = scaler.fit_transform(X_train)\n",
        "X_test = scaler.transform(X_test)"
      ],
      "metadata": {
        "id": "43KG00szQxvQ"
      },
      "execution_count": 9,
      "outputs": []
    },
    {
      "cell_type": "code",
      "source": [
        "model = tf.keras.models.Sequential([\n",
        "    tf.keras.layers.Input(shape=(D,)),\n",
        "    tf.keras.layers.Dense(1, activation='sigmoid')\n",
        "    ])\n",
        "\n",
        "\"\"\"model = tf.keras.models.Sequential()\n",
        "   model.add(tf.keras.layers.Dense(1, input_shape(D,), activation = 'sigmoid'))\"\"\""
      ],
      "metadata": {
        "colab": {
          "base_uri": "https://localhost:8080/",
          "height": 35
        },
        "id": "NosRDa_PR_Nz",
        "outputId": "18081571-88bc-4706-d46b-b4994a6d3e10"
      },
      "execution_count": 10,
      "outputs": [
        {
          "output_type": "execute_result",
          "data": {
            "text/plain": [
              "\"model = tf.keras.models.Sequential()\\n   model.add(tf.keras.layers.Dense(1, input_shape(D,), activation = 'sigmoid'))\""
            ],
            "application/vnd.google.colaboratory.intrinsic+json": {
              "type": "string"
            }
          },
          "metadata": {},
          "execution_count": 10
        }
      ]
    },
    {
      "cell_type": "code",
      "source": [
        "model.compile(optimizer='adam',\n",
        "              loss = 'binary_crossentropy',\n",
        "              metrics = 'accuracy')"
      ],
      "metadata": {
        "id": "mM-pbSXWWHjZ"
      },
      "execution_count": 11,
      "outputs": []
    },
    {
      "cell_type": "code",
      "source": [
        "r = model.fit(X_train,y_train, validation_data=(X_test,y_test), epochs=100)\n",
        "\n",
        "print(\"Train score: \",model.evaluate(X_train,y_train))\n",
        "print(\"Test score: \",model.evaluate(X_test,y_test))"
      ],
      "metadata": {
        "colab": {
          "base_uri": "https://localhost:8080/"
        },
        "id": "5Re-mU-0XYSP",
        "outputId": "ad74c4b7-dddd-4791-cef5-834d95bdddc3"
      },
      "execution_count": 12,
      "outputs": [
        {
          "output_type": "stream",
          "name": "stdout",
          "text": [
            "Epoch 1/100\n",
            "12/12 [==============================] - 1s 19ms/step - loss: 1.0243 - accuracy: 0.4488 - val_loss: 1.0606 - val_accuracy: 0.4415\n",
            "Epoch 2/100\n",
            "12/12 [==============================] - 0s 6ms/step - loss: 0.9428 - accuracy: 0.4856 - val_loss: 0.9761 - val_accuracy: 0.4787\n",
            "Epoch 3/100\n",
            "12/12 [==============================] - 0s 5ms/step - loss: 0.8699 - accuracy: 0.5249 - val_loss: 0.8983 - val_accuracy: 0.5266\n",
            "Epoch 4/100\n",
            "12/12 [==============================] - 0s 5ms/step - loss: 0.8050 - accuracy: 0.5669 - val_loss: 0.8276 - val_accuracy: 0.5585\n",
            "Epoch 5/100\n",
            "12/12 [==============================] - 0s 4ms/step - loss: 0.7455 - accuracy: 0.6037 - val_loss: 0.7640 - val_accuracy: 0.5745\n",
            "Epoch 6/100\n",
            "12/12 [==============================] - 0s 4ms/step - loss: 0.6922 - accuracy: 0.6378 - val_loss: 0.7070 - val_accuracy: 0.6011\n",
            "Epoch 7/100\n",
            "12/12 [==============================] - 0s 5ms/step - loss: 0.6450 - accuracy: 0.6535 - val_loss: 0.6555 - val_accuracy: 0.6436\n",
            "Epoch 8/100\n",
            "12/12 [==============================] - 0s 4ms/step - loss: 0.6015 - accuracy: 0.6955 - val_loss: 0.6103 - val_accuracy: 0.6968\n",
            "Epoch 9/100\n",
            "12/12 [==============================] - 0s 5ms/step - loss: 0.5646 - accuracy: 0.7113 - val_loss: 0.5679 - val_accuracy: 0.7287\n",
            "Epoch 10/100\n",
            "12/12 [==============================] - 0s 4ms/step - loss: 0.5288 - accuracy: 0.7402 - val_loss: 0.5317 - val_accuracy: 0.7447\n",
            "Epoch 11/100\n",
            "12/12 [==============================] - 0s 5ms/step - loss: 0.4984 - accuracy: 0.7559 - val_loss: 0.4989 - val_accuracy: 0.7606\n",
            "Epoch 12/100\n",
            "12/12 [==============================] - 0s 4ms/step - loss: 0.4717 - accuracy: 0.7795 - val_loss: 0.4679 - val_accuracy: 0.7819\n",
            "Epoch 13/100\n",
            "12/12 [==============================] - 0s 4ms/step - loss: 0.4468 - accuracy: 0.8110 - val_loss: 0.4407 - val_accuracy: 0.8191\n",
            "Epoch 14/100\n",
            "12/12 [==============================] - 0s 4ms/step - loss: 0.4248 - accuracy: 0.8189 - val_loss: 0.4160 - val_accuracy: 0.8404\n",
            "Epoch 15/100\n",
            "12/12 [==============================] - 0s 6ms/step - loss: 0.4054 - accuracy: 0.8346 - val_loss: 0.3934 - val_accuracy: 0.8457\n",
            "Epoch 16/100\n",
            "12/12 [==============================] - 0s 6ms/step - loss: 0.3869 - accuracy: 0.8425 - val_loss: 0.3730 - val_accuracy: 0.8457\n",
            "Epoch 17/100\n",
            "12/12 [==============================] - 0s 6ms/step - loss: 0.3704 - accuracy: 0.8609 - val_loss: 0.3550 - val_accuracy: 0.8564\n",
            "Epoch 18/100\n",
            "12/12 [==============================] - 0s 8ms/step - loss: 0.3557 - accuracy: 0.8661 - val_loss: 0.3380 - val_accuracy: 0.8617\n",
            "Epoch 19/100\n",
            "12/12 [==============================] - 0s 5ms/step - loss: 0.3421 - accuracy: 0.8740 - val_loss: 0.3224 - val_accuracy: 0.8830\n",
            "Epoch 20/100\n",
            "12/12 [==============================] - 0s 6ms/step - loss: 0.3298 - accuracy: 0.8845 - val_loss: 0.3080 - val_accuracy: 0.8830\n",
            "Epoch 21/100\n",
            "12/12 [==============================] - 0s 4ms/step - loss: 0.3176 - accuracy: 0.8924 - val_loss: 0.2954 - val_accuracy: 0.8936\n",
            "Epoch 22/100\n",
            "12/12 [==============================] - 0s 6ms/step - loss: 0.3072 - accuracy: 0.8950 - val_loss: 0.2834 - val_accuracy: 0.9043\n",
            "Epoch 23/100\n",
            "12/12 [==============================] - 0s 5ms/step - loss: 0.2972 - accuracy: 0.8976 - val_loss: 0.2726 - val_accuracy: 0.9149\n",
            "Epoch 24/100\n",
            "12/12 [==============================] - 0s 4ms/step - loss: 0.2881 - accuracy: 0.8976 - val_loss: 0.2627 - val_accuracy: 0.9149\n",
            "Epoch 25/100\n",
            "12/12 [==============================] - 0s 4ms/step - loss: 0.2797 - accuracy: 0.9029 - val_loss: 0.2535 - val_accuracy: 0.9149\n",
            "Epoch 26/100\n",
            "12/12 [==============================] - 0s 6ms/step - loss: 0.2717 - accuracy: 0.9029 - val_loss: 0.2451 - val_accuracy: 0.9149\n",
            "Epoch 27/100\n",
            "12/12 [==============================] - 0s 5ms/step - loss: 0.2643 - accuracy: 0.9134 - val_loss: 0.2373 - val_accuracy: 0.9255\n",
            "Epoch 28/100\n",
            "12/12 [==============================] - 0s 5ms/step - loss: 0.2572 - accuracy: 0.9134 - val_loss: 0.2303 - val_accuracy: 0.9362\n",
            "Epoch 29/100\n",
            "12/12 [==============================] - 0s 5ms/step - loss: 0.2510 - accuracy: 0.9160 - val_loss: 0.2236 - val_accuracy: 0.9415\n",
            "Epoch 30/100\n",
            "12/12 [==============================] - 0s 5ms/step - loss: 0.2448 - accuracy: 0.9160 - val_loss: 0.2173 - val_accuracy: 0.9468\n",
            "Epoch 31/100\n",
            "12/12 [==============================] - 0s 6ms/step - loss: 0.2393 - accuracy: 0.9213 - val_loss: 0.2115 - val_accuracy: 0.9468\n",
            "Epoch 32/100\n",
            "12/12 [==============================] - 0s 4ms/step - loss: 0.2339 - accuracy: 0.9291 - val_loss: 0.2060 - val_accuracy: 0.9574\n",
            "Epoch 33/100\n",
            "12/12 [==============================] - 0s 4ms/step - loss: 0.2289 - accuracy: 0.9344 - val_loss: 0.2009 - val_accuracy: 0.9574\n",
            "Epoch 34/100\n",
            "12/12 [==============================] - 0s 5ms/step - loss: 0.2242 - accuracy: 0.9344 - val_loss: 0.1961 - val_accuracy: 0.9574\n",
            "Epoch 35/100\n",
            "12/12 [==============================] - 0s 4ms/step - loss: 0.2197 - accuracy: 0.9344 - val_loss: 0.1917 - val_accuracy: 0.9574\n",
            "Epoch 36/100\n",
            "12/12 [==============================] - 0s 6ms/step - loss: 0.2156 - accuracy: 0.9370 - val_loss: 0.1875 - val_accuracy: 0.9574\n",
            "Epoch 37/100\n",
            "12/12 [==============================] - 0s 4ms/step - loss: 0.2117 - accuracy: 0.9396 - val_loss: 0.1834 - val_accuracy: 0.9574\n",
            "Epoch 38/100\n",
            "12/12 [==============================] - 0s 6ms/step - loss: 0.2078 - accuracy: 0.9396 - val_loss: 0.1796 - val_accuracy: 0.9574\n",
            "Epoch 39/100\n",
            "12/12 [==============================] - 0s 6ms/step - loss: 0.2043 - accuracy: 0.9396 - val_loss: 0.1759 - val_accuracy: 0.9574\n",
            "Epoch 40/100\n",
            "12/12 [==============================] - 0s 4ms/step - loss: 0.2009 - accuracy: 0.9396 - val_loss: 0.1725 - val_accuracy: 0.9574\n",
            "Epoch 41/100\n",
            "12/12 [==============================] - 0s 5ms/step - loss: 0.1977 - accuracy: 0.9501 - val_loss: 0.1692 - val_accuracy: 0.9574\n",
            "Epoch 42/100\n",
            "12/12 [==============================] - 0s 6ms/step - loss: 0.1947 - accuracy: 0.9501 - val_loss: 0.1661 - val_accuracy: 0.9574\n",
            "Epoch 43/100\n",
            "12/12 [==============================] - 0s 4ms/step - loss: 0.1917 - accuracy: 0.9501 - val_loss: 0.1630 - val_accuracy: 0.9628\n",
            "Epoch 44/100\n",
            "12/12 [==============================] - 0s 5ms/step - loss: 0.1889 - accuracy: 0.9501 - val_loss: 0.1601 - val_accuracy: 0.9628\n",
            "Epoch 45/100\n",
            "12/12 [==============================] - 0s 5ms/step - loss: 0.1861 - accuracy: 0.9501 - val_loss: 0.1575 - val_accuracy: 0.9681\n",
            "Epoch 46/100\n",
            "12/12 [==============================] - 0s 5ms/step - loss: 0.1837 - accuracy: 0.9501 - val_loss: 0.1549 - val_accuracy: 0.9681\n",
            "Epoch 47/100\n",
            "12/12 [==============================] - 0s 5ms/step - loss: 0.1812 - accuracy: 0.9501 - val_loss: 0.1524 - val_accuracy: 0.9681\n",
            "Epoch 48/100\n",
            "12/12 [==============================] - 0s 5ms/step - loss: 0.1789 - accuracy: 0.9501 - val_loss: 0.1500 - val_accuracy: 0.9681\n",
            "Epoch 49/100\n",
            "12/12 [==============================] - 0s 5ms/step - loss: 0.1767 - accuracy: 0.9528 - val_loss: 0.1477 - val_accuracy: 0.9681\n",
            "Epoch 50/100\n",
            "12/12 [==============================] - 0s 6ms/step - loss: 0.1745 - accuracy: 0.9528 - val_loss: 0.1454 - val_accuracy: 0.9681\n",
            "Epoch 51/100\n",
            "12/12 [==============================] - 0s 4ms/step - loss: 0.1724 - accuracy: 0.9528 - val_loss: 0.1434 - val_accuracy: 0.9681\n",
            "Epoch 52/100\n",
            "12/12 [==============================] - 0s 7ms/step - loss: 0.1704 - accuracy: 0.9528 - val_loss: 0.1413 - val_accuracy: 0.9681\n",
            "Epoch 53/100\n",
            "12/12 [==============================] - 0s 5ms/step - loss: 0.1685 - accuracy: 0.9528 - val_loss: 0.1392 - val_accuracy: 0.9681\n",
            "Epoch 54/100\n",
            "12/12 [==============================] - 0s 6ms/step - loss: 0.1666 - accuracy: 0.9528 - val_loss: 0.1374 - val_accuracy: 0.9681\n",
            "Epoch 55/100\n",
            "12/12 [==============================] - 0s 5ms/step - loss: 0.1649 - accuracy: 0.9528 - val_loss: 0.1355 - val_accuracy: 0.9681\n",
            "Epoch 56/100\n",
            "12/12 [==============================] - 0s 5ms/step - loss: 0.1631 - accuracy: 0.9528 - val_loss: 0.1337 - val_accuracy: 0.9681\n",
            "Epoch 57/100\n",
            "12/12 [==============================] - 0s 4ms/step - loss: 0.1614 - accuracy: 0.9528 - val_loss: 0.1320 - val_accuracy: 0.9681\n",
            "Epoch 58/100\n",
            "12/12 [==============================] - 0s 4ms/step - loss: 0.1599 - accuracy: 0.9580 - val_loss: 0.1303 - val_accuracy: 0.9681\n",
            "Epoch 59/100\n",
            "12/12 [==============================] - 0s 4ms/step - loss: 0.1583 - accuracy: 0.9580 - val_loss: 0.1287 - val_accuracy: 0.9734\n",
            "Epoch 60/100\n",
            "12/12 [==============================] - 0s 5ms/step - loss: 0.1568 - accuracy: 0.9580 - val_loss: 0.1271 - val_accuracy: 0.9787\n",
            "Epoch 61/100\n",
            "12/12 [==============================] - 0s 5ms/step - loss: 0.1554 - accuracy: 0.9580 - val_loss: 0.1256 - val_accuracy: 0.9787\n",
            "Epoch 62/100\n",
            "12/12 [==============================] - 0s 6ms/step - loss: 0.1539 - accuracy: 0.9580 - val_loss: 0.1241 - val_accuracy: 0.9787\n",
            "Epoch 63/100\n",
            "12/12 [==============================] - 0s 5ms/step - loss: 0.1526 - accuracy: 0.9606 - val_loss: 0.1227 - val_accuracy: 0.9787\n",
            "Epoch 64/100\n",
            "12/12 [==============================] - 0s 5ms/step - loss: 0.1513 - accuracy: 0.9606 - val_loss: 0.1212 - val_accuracy: 0.9787\n",
            "Epoch 65/100\n",
            "12/12 [==============================] - 0s 5ms/step - loss: 0.1500 - accuracy: 0.9606 - val_loss: 0.1199 - val_accuracy: 0.9787\n",
            "Epoch 66/100\n",
            "12/12 [==============================] - 0s 6ms/step - loss: 0.1487 - accuracy: 0.9606 - val_loss: 0.1186 - val_accuracy: 0.9787\n",
            "Epoch 67/100\n",
            "12/12 [==============================] - 0s 4ms/step - loss: 0.1476 - accuracy: 0.9633 - val_loss: 0.1173 - val_accuracy: 0.9787\n",
            "Epoch 68/100\n",
            "12/12 [==============================] - 0s 6ms/step - loss: 0.1464 - accuracy: 0.9633 - val_loss: 0.1160 - val_accuracy: 0.9787\n",
            "Epoch 69/100\n",
            "12/12 [==============================] - 0s 4ms/step - loss: 0.1452 - accuracy: 0.9633 - val_loss: 0.1148 - val_accuracy: 0.9787\n",
            "Epoch 70/100\n",
            "12/12 [==============================] - 0s 4ms/step - loss: 0.1441 - accuracy: 0.9633 - val_loss: 0.1136 - val_accuracy: 0.9787\n",
            "Epoch 71/100\n",
            "12/12 [==============================] - 0s 5ms/step - loss: 0.1431 - accuracy: 0.9633 - val_loss: 0.1125 - val_accuracy: 0.9787\n",
            "Epoch 72/100\n",
            "12/12 [==============================] - 0s 7ms/step - loss: 0.1420 - accuracy: 0.9633 - val_loss: 0.1114 - val_accuracy: 0.9787\n",
            "Epoch 73/100\n",
            "12/12 [==============================] - 0s 7ms/step - loss: 0.1410 - accuracy: 0.9633 - val_loss: 0.1103 - val_accuracy: 0.9787\n",
            "Epoch 74/100\n",
            "12/12 [==============================] - 0s 8ms/step - loss: 0.1400 - accuracy: 0.9659 - val_loss: 0.1092 - val_accuracy: 0.9787\n",
            "Epoch 75/100\n",
            "12/12 [==============================] - 0s 7ms/step - loss: 0.1390 - accuracy: 0.9659 - val_loss: 0.1082 - val_accuracy: 0.9787\n",
            "Epoch 76/100\n",
            "12/12 [==============================] - 0s 6ms/step - loss: 0.1381 - accuracy: 0.9659 - val_loss: 0.1071 - val_accuracy: 0.9787\n",
            "Epoch 77/100\n",
            "12/12 [==============================] - 0s 4ms/step - loss: 0.1371 - accuracy: 0.9659 - val_loss: 0.1061 - val_accuracy: 0.9787\n",
            "Epoch 78/100\n",
            "12/12 [==============================] - 0s 4ms/step - loss: 0.1362 - accuracy: 0.9685 - val_loss: 0.1052 - val_accuracy: 0.9787\n",
            "Epoch 79/100\n",
            "12/12 [==============================] - 0s 5ms/step - loss: 0.1354 - accuracy: 0.9685 - val_loss: 0.1042 - val_accuracy: 0.9787\n",
            "Epoch 80/100\n",
            "12/12 [==============================] - 0s 5ms/step - loss: 0.1345 - accuracy: 0.9685 - val_loss: 0.1033 - val_accuracy: 0.9787\n",
            "Epoch 81/100\n",
            "12/12 [==============================] - 0s 4ms/step - loss: 0.1337 - accuracy: 0.9685 - val_loss: 0.1024 - val_accuracy: 0.9787\n",
            "Epoch 82/100\n",
            "12/12 [==============================] - 0s 4ms/step - loss: 0.1329 - accuracy: 0.9685 - val_loss: 0.1015 - val_accuracy: 0.9787\n",
            "Epoch 83/100\n",
            "12/12 [==============================] - 0s 6ms/step - loss: 0.1321 - accuracy: 0.9685 - val_loss: 0.1006 - val_accuracy: 0.9787\n",
            "Epoch 84/100\n",
            "12/12 [==============================] - 0s 6ms/step - loss: 0.1313 - accuracy: 0.9685 - val_loss: 0.0998 - val_accuracy: 0.9787\n",
            "Epoch 85/100\n",
            "12/12 [==============================] - 0s 5ms/step - loss: 0.1306 - accuracy: 0.9685 - val_loss: 0.0989 - val_accuracy: 0.9787\n",
            "Epoch 86/100\n",
            "12/12 [==============================] - 0s 4ms/step - loss: 0.1298 - accuracy: 0.9685 - val_loss: 0.0981 - val_accuracy: 0.9787\n",
            "Epoch 87/100\n",
            "12/12 [==============================] - 0s 4ms/step - loss: 0.1291 - accuracy: 0.9685 - val_loss: 0.0973 - val_accuracy: 0.9787\n",
            "Epoch 88/100\n",
            "12/12 [==============================] - 0s 4ms/step - loss: 0.1284 - accuracy: 0.9685 - val_loss: 0.0965 - val_accuracy: 0.9787\n",
            "Epoch 89/100\n",
            "12/12 [==============================] - 0s 6ms/step - loss: 0.1276 - accuracy: 0.9685 - val_loss: 0.0958 - val_accuracy: 0.9787\n",
            "Epoch 90/100\n",
            "12/12 [==============================] - 0s 5ms/step - loss: 0.1270 - accuracy: 0.9685 - val_loss: 0.0950 - val_accuracy: 0.9787\n",
            "Epoch 91/100\n",
            "12/12 [==============================] - 0s 4ms/step - loss: 0.1263 - accuracy: 0.9685 - val_loss: 0.0943 - val_accuracy: 0.9787\n",
            "Epoch 92/100\n",
            "12/12 [==============================] - 0s 6ms/step - loss: 0.1256 - accuracy: 0.9685 - val_loss: 0.0935 - val_accuracy: 0.9787\n",
            "Epoch 93/100\n",
            "12/12 [==============================] - 0s 4ms/step - loss: 0.1250 - accuracy: 0.9685 - val_loss: 0.0928 - val_accuracy: 0.9787\n",
            "Epoch 94/100\n",
            "12/12 [==============================] - 0s 5ms/step - loss: 0.1244 - accuracy: 0.9685 - val_loss: 0.0921 - val_accuracy: 0.9787\n",
            "Epoch 95/100\n",
            "12/12 [==============================] - 0s 4ms/step - loss: 0.1237 - accuracy: 0.9685 - val_loss: 0.0914 - val_accuracy: 0.9787\n",
            "Epoch 96/100\n",
            "12/12 [==============================] - 0s 4ms/step - loss: 0.1231 - accuracy: 0.9685 - val_loss: 0.0908 - val_accuracy: 0.9787\n",
            "Epoch 97/100\n",
            "12/12 [==============================] - 0s 4ms/step - loss: 0.1226 - accuracy: 0.9685 - val_loss: 0.0901 - val_accuracy: 0.9787\n",
            "Epoch 98/100\n",
            "12/12 [==============================] - 0s 5ms/step - loss: 0.1220 - accuracy: 0.9685 - val_loss: 0.0894 - val_accuracy: 0.9787\n",
            "Epoch 99/100\n",
            "12/12 [==============================] - 0s 4ms/step - loss: 0.1214 - accuracy: 0.9685 - val_loss: 0.0888 - val_accuracy: 0.9787\n",
            "Epoch 100/100\n",
            "12/12 [==============================] - 0s 5ms/step - loss: 0.1208 - accuracy: 0.9685 - val_loss: 0.0882 - val_accuracy: 0.9787\n",
            "12/12 [==============================] - 0s 2ms/step - loss: 0.1205 - accuracy: 0.9685\n",
            "Train score:  [0.12046461552381516, 0.9685039520263672]\n",
            "6/6 [==============================] - 0s 3ms/step - loss: 0.0882 - accuracy: 0.9787\n",
            "Test score:  [0.0881897434592247, 0.978723406791687]\n"
          ]
        }
      ]
    },
    {
      "cell_type": "code",
      "source": [
        "import matplotlib.pyplot as plt\n",
        "plt.plot(r.history['loss'],label = 'loss')\n",
        "plt.plot(r.history['val_loss'],label = 'val_loss')\n",
        "plt.legend()"
      ],
      "metadata": {
        "colab": {
          "base_uri": "https://localhost:8080/",
          "height": 283
        },
        "id": "5wPAcBMVZtkF",
        "outputId": "671c4655-e794-49fb-a9e6-a8e47bffa287"
      },
      "execution_count": 13,
      "outputs": [
        {
          "output_type": "execute_result",
          "data": {
            "text/plain": [
              "<matplotlib.legend.Legend at 0x7fd33c409910>"
            ]
          },
          "metadata": {},
          "execution_count": 13
        },
        {
          "output_type": "display_data",
          "data": {
            "text/plain": [
              "<Figure size 432x288 with 1 Axes>"
            ],
            "image/png": "[encoded data removed]"
          },
          "metadata": {
            "needs_background": "light"
          }
        }
      ]
    },
    {
      "cell_type": "code",
      "source": [
        "import matplotlib.pyplot as plt\n",
        "plt.plot(r.history['accuracy'],label = 'acc')\n",
        "plt.plot(r.history['val_accuracy'],label = 'val_acc')\n",
        "plt.legend()"
      ],
      "metadata": {
        "colab": {
          "base_uri": "https://localhost:8080/",
          "height": 285
        },
        "outputId": "4aaf27eb-423d-4a17-9afb-043775262623",
        "id": "PXbOoH0WqcEt"
      },
      "execution_count": 14,
      "outputs": [
        {
          "output_type": "execute_result",
          "data": {
            "text/plain": [
              "<matplotlib.legend.Legend at 0x7fd339a19ad0>"
            ]
          },
          "metadata": {},
          "execution_count": 14
        },
        {
          "output_type": "display_data",
          "data": {
            "text/plain": [
              "<Figure size 432x288 with 1 Axes>"
            ],
            "image/png": "[encoded data removed]"
          },
          "metadata": {
            "needs_background": "light"
          }
        }
      ]
    },
    {
      "cell_type": "code",
      "source": [
        "P = model.predict(X_test)\n",
        "print(P)"
      ],
      "metadata": {
        "colab": {
          "base_uri": "https://localhost:8080/"
        },
        "id": "4_fMVrqhrpFv",
        "outputId": "f8cee954-b110-4ca2-c555-f76f632cb819"
      },
      "execution_count": 15,
      "outputs": [
        {
          "output_type": "stream",
          "name": "stdout",
          "text": [
            "[[9.9766171e-01]\n",
            " [2.1344125e-03]\n",
            " [1.1089287e-04]\n",
            " [4.7585213e-01]\n",
            " [9.8318589e-01]\n",
            " [9.9639988e-01]\n",
            " [2.2287461e-01]\n",
            " [9.4287789e-01]\n",
            " [4.7739136e-06]\n",
            " [9.8268461e-01]\n",
            " [4.0909648e-04]\n",
            " [8.3390075e-01]\n",
            " [4.1159987e-04]\n",
            " [2.3102453e-01]\n",
            " [9.7456110e-01]\n",
            " [1.2518734e-02]\n",
            " [9.7717786e-01]\n",
            " [9.9435902e-01]\n",
            " [9.9341273e-01]\n",
            " [9.8736680e-01]\n",
            " [9.5324171e-01]\n",
            " [5.8455803e-06]\n",
            " [9.3037999e-01]\n",
            " [8.2030833e-02]\n",
            " [9.4671118e-01]\n",
            " [9.9860960e-01]\n",
            " [4.2178526e-06]\n",
            " [9.9950260e-01]\n",
            " [3.9580458e-01]\n",
            " [3.9143074e-01]\n",
            " [3.9789081e-04]\n",
            " [2.7891183e-01]\n",
            " [9.9846423e-01]\n",
            " [9.9659455e-01]\n",
            " [2.7642882e-01]\n",
            " [9.8224759e-01]\n",
            " [6.3609862e-01]\n",
            " [2.2087932e-02]\n",
            " [5.9419960e-02]\n",
            " [8.5615844e-01]\n",
            " [9.8197401e-01]\n",
            " [9.4896102e-01]\n",
            " [9.5077664e-01]\n",
            " [9.3857867e-01]\n",
            " [1.1771530e-02]\n",
            " [9.9480116e-01]\n",
            " [1.9432485e-02]\n",
            " [4.6738631e-01]\n",
            " [9.9123931e-01]\n",
            " [5.7069659e-02]\n",
            " [3.4699142e-03]\n",
            " [8.5188866e-01]\n",
            " [8.6850250e-01]\n",
            " [9.9826264e-01]\n",
            " [9.4111896e-01]\n",
            " [3.3750087e-02]\n",
            " [1.1798143e-03]\n",
            " [8.3182514e-01]\n",
            " [3.5748717e-01]\n",
            " [9.9860537e-01]\n",
            " [9.8542345e-01]\n",
            " [9.9801451e-01]\n",
            " [9.9872875e-01]\n",
            " [9.3886459e-01]\n",
            " [9.2619598e-01]\n",
            " [9.5482612e-01]\n",
            " [9.9677241e-01]\n",
            " [8.2705760e-01]\n",
            " [9.9172348e-01]\n",
            " [9.8037499e-01]\n",
            " [9.8265558e-01]\n",
            " [1.8198580e-02]\n",
            " [9.8154354e-01]\n",
            " [2.3317069e-02]\n",
            " [9.9972647e-01]\n",
            " [5.4075122e-03]\n",
            " [8.2273811e-01]\n",
            " [9.0831554e-01]\n",
            " [9.9432278e-01]\n",
            " [1.0882914e-03]\n",
            " [7.2517157e-01]\n",
            " [4.0949702e-01]\n",
            " [9.9951601e-01]\n",
            " [9.9117011e-01]\n",
            " [9.8933792e-01]\n",
            " [9.6967399e-01]\n",
            " [9.9024880e-01]\n",
            " [4.3433964e-02]\n",
            " [9.9711120e-01]\n",
            " [9.9376768e-01]\n",
            " [9.9936330e-01]\n",
            " [9.3896425e-01]\n",
            " [9.9537158e-01]\n",
            " [9.9623442e-01]\n",
            " [4.0309429e-03]\n",
            " [9.2240858e-01]\n",
            " [9.8742187e-01]\n",
            " [9.6791339e-01]\n",
            " [1.2524128e-03]\n",
            " [8.8926506e-01]\n",
            " [3.0656457e-03]\n",
            " [9.4737446e-01]\n",
            " [3.3308268e-03]\n",
            " [7.6297277e-01]\n",
            " [9.8511249e-01]\n",
            " [9.4776320e-01]\n",
            " [9.9649978e-01]\n",
            " [2.2428843e-01]\n",
            " [7.6706755e-01]\n",
            " [3.9128438e-01]\n",
            " [9.8935115e-01]\n",
            " [6.1407232e-01]\n",
            " [9.6389461e-01]\n",
            " [9.8379564e-01]\n",
            " [1.3880134e-03]\n",
            " [6.7166805e-02]\n",
            " [9.9843371e-01]\n",
            " [9.7783339e-01]\n",
            " [9.7708130e-01]\n",
            " [9.7400880e-01]\n",
            " [3.6080215e-05]\n",
            " [9.5850599e-01]\n",
            " [2.3895046e-01]\n",
            " [9.9757653e-01]\n",
            " [5.1245183e-02]\n",
            " [9.8861438e-01]\n",
            " [8.3188713e-02]\n",
            " [1.7874966e-06]\n",
            " [2.2207050e-06]\n",
            " [2.7600944e-02]\n",
            " [9.7310299e-01]\n",
            " [9.9010080e-01]\n",
            " [9.3977690e-01]\n",
            " [9.9877739e-01]\n",
            " [1.2166798e-03]\n",
            " [9.6337626e-06]\n",
            " [5.2327812e-03]\n",
            " [9.3753469e-01]\n",
            " [9.1957784e-01]\n",
            " [8.4490132e-01]\n",
            " [4.6542287e-04]\n",
            " [1.4720261e-03]\n",
            " [8.7126029e-01]\n",
            " [9.9343646e-01]\n",
            " [3.2841057e-02]\n",
            " [8.2562464e-01]\n",
            " [8.4256339e-01]\n",
            " [2.1359324e-04]\n",
            " [9.5807540e-01]\n",
            " [9.2759985e-01]\n",
            " [8.9205813e-01]\n",
            " [8.4500372e-01]\n",
            " [8.8980496e-03]\n",
            " [1.2923673e-01]\n",
            " [3.6746183e-01]\n",
            " [9.4962037e-01]\n",
            " [9.9253356e-01]\n",
            " [9.8628110e-01]\n",
            " [1.7469823e-03]\n",
            " [9.3115371e-01]\n",
            " [9.7968870e-01]\n",
            " [9.8146105e-01]\n",
            " [9.6805507e-01]\n",
            " [5.3861737e-04]\n",
            " [9.9174708e-01]\n",
            " [9.8642129e-01]\n",
            " [9.9298680e-01]\n",
            " [1.8138289e-03]\n",
            " [9.8110926e-01]\n",
            " [4.2116851e-01]\n",
            " [9.9864399e-01]\n",
            " [5.3167343e-04]\n",
            " [9.7979736e-01]\n",
            " [4.3371320e-02]\n",
            " [8.6171329e-03]\n",
            " [1.1518300e-03]\n",
            " [2.9564500e-03]\n",
            " [9.4721389e-01]\n",
            " [9.9962443e-01]\n",
            " [8.0504477e-01]\n",
            " [9.6768916e-01]\n",
            " [9.4069403e-01]\n",
            " [9.7969377e-01]\n",
            " [6.2593710e-01]\n",
            " [9.9701977e-01]\n",
            " [9.1278338e-01]\n",
            " [9.3684077e-01]\n",
            " [4.0692091e-04]]\n"
          ]
        }
      ]
    },
    {
      "cell_type": "code",
      "source": [
        "import numpy as np\n",
        "P = np.round(P).flatten()\n",
        "print(P)"
      ],
      "metadata": {
        "colab": {
          "base_uri": "https://localhost:8080/"
        },
        "id": "5gnVZEWkD9Bk",
        "outputId": "e3e6f75f-567f-4cc6-b0cd-a63ad9fa90fd"
      },
      "execution_count": 16,
      "outputs": [
        {
          "output_type": "stream",
          "name": "stdout",
          "text": [
            "[1. 0. 0. 0. 1. 1. 0. 1. 0. 1. 0. 1. 0. 0. 1. 0. 1. 1. 1. 1. 1. 0. 1. 0.\n",
            " 1. 1. 0. 1. 0. 0. 0. 0. 1. 1. 0. 1. 1. 0. 0. 1. 1. 1. 1. 1. 0. 1. 0. 0.\n",
            " 1. 0. 0. 1. 1. 1. 1. 0. 0. 1. 0. 1. 1. 1. 1. 1. 1. 1. 1. 1. 1. 1. 1. 0.\n",
            " 1. 0. 1. 0. 1. 1. 1. 0. 1. 0. 1. 1. 1. 1. 1. 0. 1. 1. 1. 1. 1. 1. 0. 1.\n",
            " 1. 1. 0. 1. 0. 1. 0. 1. 1. 1. 1. 0. 1. 0. 1. 1. 1. 1. 0. 0. 1. 1. 1. 1.\n",
            " 0. 1. 0. 1. 0. 1. 0. 0. 0. 0. 1. 1. 1. 1. 0. 0. 0. 1. 1. 1. 0. 0. 1. 1.\n",
            " 0. 1. 1. 0. 1. 1. 1. 1. 0. 0. 0. 1. 1. 1. 0. 1. 1. 1. 1. 0. 1. 1. 1. 0.\n",
            " 1. 0. 1. 0. 1. 0. 0. 0. 0. 1. 1. 1. 1. 1. 1. 1. 1. 1. 1. 0.]\n"
          ]
        }
      ]
    },
    {
      "cell_type": "code",
      "source": [
        "print(\"manually calculated accuracy\", np.mean(P == y_test))\n",
        "print(\"evaluated accuracy\", model.evaluate(X_test,y_test))"
      ],
      "metadata": {
        "colab": {
          "base_uri": "https://localhost:8080/"
        },
        "id": "yu-86tCPERC8",
        "outputId": "d3d70c09-6431-4df0-eeae-d73892d2fee7"
      },
      "execution_count": 17,
      "outputs": [
        {
          "output_type": "stream",
          "name": "stdout",
          "text": [
            "manually calculated accuracy 0.9787234042553191\n",
            "6/6 [==============================] - 0s 2ms/step - loss: 0.0882 - accuracy: 0.9787\n",
            "evaluated accuracy [0.0881897434592247, 0.978723406791687]\n"
          ]
        }
      ]
    },
    {
      "cell_type": "code",
      "source": [
        "model.save('lin_classification.h5')"
      ],
      "metadata": {
        "id": "g59X8TLpJDql"
      },
      "execution_count": 20,
      "outputs": []
    },
    {
      "cell_type": "code",
      "source": [
        "!ls"
      ],
      "metadata": {
        "colab": {
          "base_uri": "https://localhost:8080/"
        },
        "id": "6nKo0rE_JNEI",
        "outputId": "c5def89f-e46d-447a-9801-3ffbf8e88ce8"
      },
      "execution_count": 21,
      "outputs": [
        {
          "output_type": "stream",
          "name": "stdout",
          "text": [
            "lin_classification  lin_classification.h5  sample_data\n"
          ]
        }
      ]
    },
    {
      "cell_type": "code",
      "source": [
        "model = tf.keras.models.load_model('lin_classification.h5')\n",
        "print(model.layers)\n",
        "model.evaluate(X_test,y_test)"
      ],
      "metadata": {
        "colab": {
          "base_uri": "https://localhost:8080/"
        },
        "id": "f8k0QLoOJQUg",
        "outputId": "ee704901-285d-4fcc-b389-f63ab6c3b00d"
      },
      "execution_count": 23,
      "outputs": [
        {
          "output_type": "stream",
          "name": "stdout",
          "text": [
            "[<keras.layers.core.dense.Dense object at 0x7fd3367f1e90>]\n",
            "6/6 [==============================] - 0s 3ms/step - loss: 0.0882 - accuracy: 0.9787\n"
          ]
        },
        {
          "output_type": "execute_result",
          "data": {
            "text/plain": [
              "[0.0881897434592247, 0.978723406791687]"
            ]
          },
          "metadata": {},
          "execution_count": 23
        }
      ]
    }
  ]
}