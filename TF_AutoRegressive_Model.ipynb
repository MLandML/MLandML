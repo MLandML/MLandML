{
  "nbformat": 4,
  "nbformat_minor": 0,
  "metadata": {
    "colab": {
      "provenance": [],
      "private_outputs": true,
      "collapsed_sections": [],
      "authorship_tag": "ABX9TyOe5zGR0W7ZrRQvEKwF+ig8",
      "include_colab_link": true
    },
    "kernelspec": {
      "name": "python3",
      "display_name": "Python 3"
    },
    "language_info": {
      "name": "python"
    }
  },
  "cells": [
    {
      "cell_type": "markdown",
      "metadata": {
        "id": "view-in-github",
        "colab_type": "text"
      },
      "source": [
        "<a href=\"https://colab.research.google.com/github/MLandML/MLandML/blob/learning_projects/TF_AutoRegressive_Model.ipynb\" target=\"_parent\"><img src=\"https://colab.research.google.com/assets/colab-badge.svg\" alt=\"Open In Colab\"/></a>"
      ]
    },
    {
      "cell_type": "code",
      "execution_count": null,
      "metadata": {
        "id": "bAGCzdC0GbG9"
      },
      "outputs": [],
      "source": [
        "import tensorflow as tf\n",
        "import numpy as np\n",
        "import matplotlib.pyplot as plt\n",
        "import pandas as pd"
      ]
    },
    {
      "cell_type": "code",
      "source": [
        "from tensorflow.keras.layers import Input,Dense\n",
        "from tensorflow.keras.models import Model\n",
        "from tensorflow.keras.optimizers import SGD,Adam"
      ],
      "metadata": {
        "id": "OICy79HVhQRF"
      },
      "execution_count": null,
      "outputs": []
    },
    {
      "cell_type": "code",
      "source": [
        "series = np.sin(0.1*np.arange(200)) + np.random.randn(200)*0.1\n",
        "plt.plot(series)"
      ],
      "metadata": {
        "id": "fTDmI8EpizV_"
      },
      "execution_count": null,
      "outputs": []
    },
    {
      "cell_type": "code",
      "source": [
        "T = 10\n",
        "X = []\n",
        "Y = []\n",
        "for t in range(len(series) - T):\n",
        "  x = series[t:t+T]\n",
        "  X.append(x)\n",
        "  y = series[t+T]\n",
        "  Y.append(y)\n",
        "\n",
        "X = np.array(X).reshape(-1,T)\n",
        "Y = np.array(Y)\n",
        "print(\"X shape:\",X.shape,\" \",\"Y shape:\",Y.shape)"
      ],
      "metadata": {
        "id": "bdsas4CGkaQt"
      },
      "execution_count": null,
      "outputs": []
    },
    {
      "cell_type": "code",
      "source": [
        "i = Input(shape = (T,))\n",
        "x = Dense(1)(i)\n",
        "\n",
        "model = Model(i,x)\n",
        "model.compile(\n",
        "    loss = 'mse',\n",
        "    optimizer = Adam(lr = 0.1)\n",
        ")\n",
        "\n",
        "N = len(X)\n",
        "r = model.fit(\n",
        "    X[:N//2], Y[:N//2],\n",
        "    epochs = 100,\n",
        "    validation_data = (X[N//2:],Y[N//2:])\n",
        ")"
      ],
      "metadata": {
        "id": "uzOtu2U8oInP"
      },
      "execution_count": null,
      "outputs": []
    },
    {
      "cell_type": "code",
      "source": [
        "plt.plot(r.history['loss'],label='loss')\n",
        "plt.plot(r.history['val_loss'],label='val_loss')\n",
        "plt.legend()"
      ],
      "metadata": {
        "id": "DWTj8gRIqHD_"
      },
      "execution_count": null,
      "outputs": []
    },
    {
      "cell_type": "code",
      "source": [
        "#wrong method\n",
        "val_target = Y[N//2:]\n",
        "val_pred = []\n",
        "i = -N//2\n",
        "while len(val_pred)<len(val_target):\n",
        "  p = model.predict(X[i].reshape(1,-1))[0,0]\n",
        "  i +=1\n",
        "  val_pred.append(p)"
      ],
      "metadata": {
        "id": "MKHMbsY1q3cl"
      },
      "execution_count": null,
      "outputs": []
    },
    {
      "cell_type": "code",
      "source": [
        "plt.plot(val_target,label=\"var_target\")\n",
        "plt.plot(val_pred,label='var_pred')\n",
        "plt.legend()"
      ],
      "metadata": {
        "id": "p6X70oB1yfzY"
      },
      "execution_count": null,
      "outputs": []
    },
    {
      "cell_type": "code",
      "source": [
        "#correct method\n",
        "val_targets = Y[N//2:]\n",
        "val_preds = []\n",
        "last_x = X[-N//2]\n",
        "\n",
        "while len(val_preds)<len(val_targets):\n",
        "  p = model.predict(last_x.reshape(1,-1))[0,0]\n",
        "  val_preds.append(p)\n",
        "  last_x = np.roll(last_x,-1)\n",
        "  last_x[-1] = p"
      ],
      "metadata": {
        "id": "QtBBOiu9y5EM"
      },
      "execution_count": null,
      "outputs": []
    },
    {
      "cell_type": "code",
      "source": [
        "plt.plot(val_targets,label=\"var_target\")\n",
        "plt.plot(val_preds,label='var_pred')\n",
        "plt.legend()"
      ],
      "metadata": {
        "id": "Tx8MJ_iqz9EW"
      },
      "execution_count": null,
      "outputs": []
    }
  ]
}