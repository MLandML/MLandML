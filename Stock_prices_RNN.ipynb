{
  "nbformat": 4,
  "nbformat_minor": 0,
  "metadata": {
    "colab": {
      "provenance": [],
      "private_outputs": true,
      "authorship_tag": "ABX9TyNc7S/6w+fo+ITM0bFZToCN",
      "include_colab_link": true
    },
    "kernelspec": {
      "name": "python3",
      "display_name": "Python 3"
    },
    "language_info": {
      "name": "python"
    }
  },
  "cells": [
    {
      "cell_type": "markdown",
      "metadata": {
        "id": "view-in-github",
        "colab_type": "text"
      },
      "source": [
        "<a href=\"https://colab.research.google.com/github/MLandML/MLandML/blob/learning_projects/Stock_prices_RNN.ipynb\" target=\"_parent\"><img src=\"https://colab.research.google.com/assets/colab-badge.svg\" alt=\"Open In Colab\"/></a>"
      ]
    },
    {
      "cell_type": "code",
      "execution_count": null,
      "metadata": {
        "id": "Hixtu-3b4Hvd"
      },
      "outputs": [],
      "source": [
        "import tensorflow as tf\n",
        "import numpy as np\n",
        "import pandas as pd\n",
        "import matplotlib.pyplot as plt\n",
        "from sklearn.preprocessing import StandardScaler\n",
        "\n",
        "from tensorflow.keras.layers import Input,LSTM,GRU,Dense,GlobalMaxPooling1D\n",
        "from tensorflow.keras.models import Model\n",
        "from tensorflow.keras.optimizers import Adam"
      ]
    },
    {
      "cell_type": "code",
      "source": [
        "from google.colab import files\n",
        "uploaded = files.upload()"
      ],
      "metadata": {
        "id": "w2RnCGC7bkZx"
      },
      "execution_count": null,
      "outputs": []
    },
    {
      "cell_type": "code",
      "source": [
        "import io\n",
        "\n",
        "df = pd.read_csv(io.BytesIO(uploaded['SBUX.csv']))\n",
        "df.head()"
      ],
      "metadata": {
        "id": "PWRPd82TY3_m"
      },
      "execution_count": null,
      "outputs": []
    },
    {
      "cell_type": "code",
      "source": [
        "df = df.drop(\"Adj Close\",axis=1)"
      ],
      "metadata": {
        "id": "u6ViXP5RcTOi"
      },
      "execution_count": null,
      "outputs": []
    },
    {
      "cell_type": "code",
      "source": [
        "df['Prev Close'] = df['Close'].shift(1)\n",
        "df"
      ],
      "metadata": {
        "id": "Xp0fO542kRui"
      },
      "execution_count": null,
      "outputs": []
    },
    {
      "cell_type": "code",
      "source": [
        "#return\n",
        "df['Return'] = (df['Close'] - df['Prev Close'])/df['Prev Close']\n",
        "df['Return'].hist()"
      ],
      "metadata": {
        "id": "6hlQp7uJ7hVt"
      },
      "execution_count": null,
      "outputs": []
    },
    {
      "cell_type": "code",
      "source": [
        "series = df['Return'].values[1:].reshape(-1,1)\n",
        "\n",
        "scaler = StandardScaler()\n",
        "scaler.fit(series[:len(series)//2])\n",
        "series = scaler.transform(series).flatten()"
      ],
      "metadata": {
        "id": "fTMk_qw_9uYs"
      },
      "execution_count": null,
      "outputs": []
    },
    {
      "cell_type": "code",
      "source": [
        "T = 10\n",
        "D = 1\n",
        "X = []\n",
        "Y = []\n",
        "\n",
        "for t in range(len(series)-T):\n",
        "  x = series[t:t+T]\n",
        "  y = series[t+T]\n",
        "  X.append(x)\n",
        "  Y.append(y)\n",
        "\n",
        "X = np.array(X).reshape(-1,T,D)\n",
        "Y = np.array(Y)\n",
        "N = len(x)\n",
        "X.shape"
      ],
      "metadata": {
        "id": "tgZYHLjtCZJQ"
      },
      "execution_count": null,
      "outputs": []
    },
    {
      "cell_type": "code",
      "source": [
        "i = Input(shape = (T,D))\n",
        "x = LSTM(128)(i)\n",
        "x = Dense(1)(x)\n",
        "\n",
        "model = Model(i,x)\n",
        "model.compile(\n",
        "    loss = 'mse',\n",
        "    optimizer = Adam(lr=0.01),\n",
        ")\n",
        "\n",
        "r = model.fit(X[:N//2],Y[:N//2],epochs=50,validation_data=(X[N//2:],Y[N//2:]))"
      ],
      "metadata": {
        "id": "8iDCML30D5G4"
      },
      "execution_count": null,
      "outputs": []
    },
    {
      "cell_type": "code",
      "source": [
        "plt.plot(r.history['loss'],label='loss')\n",
        "plt.plot(r.history['val_loss'],label='val_loss')\n",
        "plt.legend()"
      ],
      "metadata": {
        "id": "nHMEWXx9Fl1_"
      },
      "execution_count": null,
      "outputs": []
    },
    {
      "cell_type": "code",
      "source": [
        "#one-step forecasting\n",
        "outputs = model.predict(X)\n",
        "print(outputs.shape)\n",
        "predictions = outputs[:,0]\n",
        "\n",
        "plt.plot(Y,label='Targets')\n",
        "plt.plot(predictions,label='predictions')\n",
        "plt.legend()"
      ],
      "metadata": {
        "id": "VY4m6zjZHDdg"
      },
      "execution_count": null,
      "outputs": []
    },
    {
      "cell_type": "code",
      "source": [
        "#multi-step forecasting\n",
        "val_targets = Y[N//2:]\n",
        "val_preds = []\n",
        "last_x = X[N//2]\n",
        "\n",
        "while len(val_preds)<len(val_targets):\n",
        "  p = model.predict(last_x.reshape(1,-1,1))[0,0]\n",
        "  val_preds.append(p)\n",
        "  last_x = np.roll(last_x,-1)\n",
        "  last_x[-1] = p\n",
        "\n",
        "plt.plot(val_targets,label='Targets')\n",
        "plt.plot(val_preds,label='forecasted_predictions')\n",
        "plt.legend()"
      ],
      "metadata": {
        "id": "7kLXQ6QMJHRn"
      },
      "execution_count": null,
      "outputs": []
    },
    {
      "cell_type": "code",
      "source": [
        "#using all the columns\n",
        "\n",
        "input_data = df[['High','Low','Open','Close','Volume']].values\n",
        "targets = df['Return'].values"
      ],
      "metadata": {
        "id": "FMBnhT0-PN0n"
      },
      "execution_count": null,
      "outputs": []
    },
    {
      "cell_type": "code",
      "source": [
        "T = 10\n",
        "D = input_data.shape[1]\n",
        "N = len(input_data) - T"
      ],
      "metadata": {
        "id": "1LafpjX6Sxsw"
      },
      "execution_count": null,
      "outputs": []
    },
    {
      "cell_type": "code",
      "source": [
        "NTrain = len(input_data) * 2//3\n",
        "scaler = StandardScaler()\n",
        "scaler.fit(input_data[:NTrain+T])\n",
        "input_data = scaler.transform(input_data)\n",
        "\n",
        "X_train = np.zeros((NTrain,T,D))\n",
        "Y_train = np.zeros(NTrain)\n",
        "\n",
        "X_test = np.zeros((N-NTrain,T,D))\n",
        "Y_test = np.zeros(N-NTrain)\n",
        "\n",
        "for t in range(NTrain):\n",
        "  X_train[t,:,:] = input_data[t:t+T]\n",
        "  Y_train[t] = (targets[t+T]>0)\n",
        "\n",
        "for u in range(N-NTrain):\n",
        "  t = u + NTrain\n",
        "  X_test[u,:,:] = input_data[t:t+T]\n",
        "  Y_test[u] = (targets[t+T]>0)"
      ],
      "metadata": {
        "id": "TYO1xf5ZTQdP"
      },
      "execution_count": null,
      "outputs": []
    },
    {
      "cell_type": "code",
      "source": [
        "i = Input(shape = (T,D))\n",
        "x = LSTM(64)(i)\n",
        "x = Dense(1,activation='sigmoid')(x)\n",
        "\n",
        "model = Model(i,x)\n",
        "model.compile(\n",
        "    loss = 'binary_crossentropy',\n",
        "    optimizer = Adam(lr=0.01),\n",
        "    metrics =['accuracy']\n",
        ")\n",
        "\n",
        "r = model.fit(X_train,Y_train,epochs=100,validation_data=(X_test,Y_test))"
      ],
      "metadata": {
        "id": "xmXN6FG1g_9J"
      },
      "execution_count": null,
      "outputs": []
    },
    {
      "cell_type": "code",
      "source": [
        "plt.plot(r.history['loss'],label='loss')\n",
        "plt.plot(r.history['val_loss'],label='val_loss')\n",
        "plt.legend()"
      ],
      "metadata": {
        "id": "wn49B06riRZu"
      },
      "execution_count": null,
      "outputs": []
    },
    {
      "cell_type": "code",
      "source": [
        "plt.plot(r.history['accuracy'],label='accuracy')\n",
        "plt.plot(r.history['val_accuracy'],label='val_accuracy')\n",
        "plt.legend()"
      ],
      "metadata": {
        "id": "OUFcROkJiSV0"
      },
      "execution_count": null,
      "outputs": []
    }
  ]
}