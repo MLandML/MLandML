{
  "nbformat": 4,
  "nbformat_minor": 0,
  "metadata": {
    "colab": {
      "provenance": [],
      "authorship_tag": "ABX9TyMJd3nme6hM28obZ1sGIbYG",
      "include_colab_link": true
    },
    "kernelspec": {
      "name": "python3",
      "display_name": "Python 3"
    },
    "language_info": {
      "name": "python"
    },
    "accelerator": "GPU",
    "gpuClass": "standard"
  },
  "cells": [
    {
      "cell_type": "markdown",
      "metadata": {
        "id": "view-in-github",
        "colab_type": "text"
      },
      "source": [
        "<a href=\"https://colab.research.google.com/github/MLandML/MLandML/blob/learning_projects/Advanced_GAN.ipynb\" target=\"_parent\"><img src=\"https://colab.research.google.com/assets/colab-badge.svg\" alt=\"Open In Colab\"/></a>"
      ]
    },
    {
      "cell_type": "code",
      "execution_count": 5,
      "metadata": {
        "id": "EKs37ZlBCmfD"
      },
      "outputs": [],
      "source": [
        "import torch,torchvision,os,PIL,pdb\n",
        "from torch import nn\n",
        "from torch.utils.data import Dataset\n",
        "from torch.utils.data import DataLoader\n",
        "from torchvision import transforms\n",
        "from torchvision.utils import make_grid\n",
        "from tqdm.auto import tqdm\n",
        "import numpy\n",
        "from PIL import Image\n",
        "import matplotlib.pyplot as plt\n",
        "\n",
        "def show(tensor,num=25,wamb=0,name=''):\n",
        "  data = tensor.detach().cpu()\n",
        "  grid = make_grid(data[:num],nrow = 5).permute(1,2,0)\n",
        "\n",
        "  plt.imshow(grid.clip(0,1)) #clipping the pixels so that the images in the grid are not oversaturated\n",
        "  plt.show()\n",
        "\n",
        "nepochs = 10000\n",
        "batch_size = 128\n",
        "lr = 1e-4\n",
        "z_dim = 200\n",
        "device = \"cuda\"\n",
        "\n",
        "cur_step = 0\n",
        "crit_cycles = 5 #after training gen,critic is trained 5 times before again training the gen\n",
        "gen_losses=[]\n",
        "crit_losses = []\n",
        "show_step = 35\n",
        "save_step = 35\n"
      ]
    },
    {
      "cell_type": "code",
      "source": [
        "from torch.nn.modules.batchnorm import BatchNorm2d\n",
        "from torch.nn.modules.module import Module\n",
        "#generator model\n",
        "\n",
        "class Generator(nn.Module):\n",
        "  def __init__(self,z_dim=200,d_dim=16):\n",
        "    super().__init__()\n",
        "    self.z_dim = z_dim\n",
        "\n",
        "    self.gen = nn.Sequential(\n",
        "        nn.ConvTranspose2d(z_dim,d_dim*32,4,1,0), #increases the size of input \n",
        "        #ConvTranspose2d: in_channels, out_channels, kernel,_size, stride=1,padding=0\n",
        "        #Calculating new width and height: (n-1)*stride - 2*padding +ks\n",
        "        #n:width or height\n",
        "        #we begin with  1x1 image with z_dim number of channels(200)\n",
        "        # 1x1 to 4x4 and from 200 channels to 512 channels\n",
        "        nn.BatchNorm2d(d_dim*32),\n",
        "        nn.ReLU(True),\n",
        "\n",
        "        nn.ConvTranspose2d(d_dim*32,d_dim*16,4,2,1), #8x8 ch: 512 to 256\n",
        "        nn.BatchNorm2d(d_dim*16),\n",
        "        nn.ReLU(True),\n",
        "\n",
        "        nn.ConvTranspose2d(d_dim*16,d_dim*8,4,2,1), #16x16 ch: 256 to 128\n",
        "        nn.BatchNorm2d(d_dim*8),\n",
        "        nn.ReLU(True),\n",
        "\n",
        "        nn.ConvTranspose2d(d_dim*8,d_dim*4,4,2,1), #32x32 ch: 128 to 64\n",
        "        nn.BatchNorm2d(d_dim*4),\n",
        "        nn.ReLU(True),\n",
        "\n",
        "        nn.ConvTranspose2d(d_dim*4,d_dim*2,4,2,1), #64x64 ch: 64 to 32\n",
        "        nn.BatchNorm2d(d_dim*2),\n",
        "        nn.ReLU(True),\n",
        "\n",
        "        nn.ConvTranspose2d(d_dim*2,3,4,2,1), #128x128 ch: 32 to 3 (rgb)\n",
        "        nn.Tanh(), #produce in the range from -1 to 1\n",
        "\n",
        "    )\n",
        "\n",
        "  def forward(self,noise):\n",
        "    x = noise.view(len(noise),200,1,1) #128x200x1x1\n",
        "    return self.gen(x)\n",
        "\n",
        "def gen_noise(num,z_dim,device='cuda'):\n",
        "  return torch.rand(num,z_dim,device=device) #128x200"
      ],
      "metadata": {
        "id": "sL-YT4DJown6"
      },
      "execution_count": 14,
      "outputs": []
    },
    {
      "cell_type": "code",
      "source": [
        "#critic \n",
        "\n",
        "class critic(nn.Module):\n",
        "  def __init__(self,d_dim=16):\n",
        "    super().__init__()\n",
        "    self.critic = nn.Sequential(\n",
        "        #Conv2d: in_channels,out_channels,kernel_size,stride=1,padding=0\n",
        "        #Conv2d: width or height = (n+2*pad-ks)//stride +1\n",
        "        nn.Con2d(3,d_dim,4,2,1),#64x64 ch: 3,16\n",
        "        nn.InstanceNorm2d(d_dim), #in critic instead of normalizing by batch, instance is best\n",
        "        nn.LeakyReLU(0.2),\n",
        "\n",
        "        nn.Conv2d(d_dim,d_dim*2,4,2,1),\n",
        "        nn.InstanceNorm2d(d_dim*2),\n",
        "        nn.LeakyReLU(0.2),\n",
        "\n",
        "        nn.Conv2d(d_dim*2,d_dim*4,4,2,1),\n",
        "        nn.InstanceNorm2d(d_dim*4),\n",
        "        nn.LeakyReLU(0.2),\n",
        "\n",
        "        nn.Conv2d(d_dim*4,d_dim*8,4,2,1),\n",
        "        nn.InstanceNorm2d(d_dim*8),\n",
        "        nn.LeakyReLU(0.2),\n",
        "\n",
        "        nn.Conv2d(d_dim*8,d_dim*16,4,2,1),\n",
        "        nn.InstanceNorm2d(d_dim*16),\n",
        "        nn.LeakyReLU(0.2),\n",
        "\n",
        "        nn.Conv2d(d_dim*16,1,4,1,0), #1x1 ch: 256 to 1\n",
        "        \n",
        "    )\n",
        "\n",
        "  def forward(self,image):\n",
        "    #image: 128x3x128x128  batch x ch x width x height\n",
        "    crit_pred = self.crit(image) # 128x1x1x1\n",
        "    return crit_pred.view(len(crit_pred),-1) #128x1 128 predictions real or fake"
      ],
      "metadata": {
        "id": "ZlX0ZxB0DBsV"
      },
      "execution_count": 16,
      "outputs": []
    }
  ]
}