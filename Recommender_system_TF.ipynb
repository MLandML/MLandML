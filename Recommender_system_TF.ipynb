{
  "nbformat": 4,
  "nbformat_minor": 0,
  "metadata": {
    "colab": {
      "private_outputs": true,
      "provenance": [],
      "authorship_tag": "ABX9TyMtcp0nHjqcRE3nrx4C5XXr",
      "include_colab_link": true
    },
    "kernelspec": {
      "name": "python3",
      "display_name": "Python 3"
    },
    "language_info": {
      "name": "python"
    },
    "accelerator": "GPU"
  },
  "cells": [
    {
      "cell_type": "markdown",
      "metadata": {
        "id": "view-in-github",
        "colab_type": "text"
      },
      "source": [
        "<a href=\"https://colab.research.google.com/github/MLandML/MLandML/blob/learning_projects/Recommender_system_TF.ipynb\" target=\"_parent\"><img src=\"https://colab.research.google.com/assets/colab-badge.svg\" alt=\"Open In Colab\"/></a>"
      ]
    },
    {
      "cell_type": "code",
      "execution_count": null,
      "metadata": {
        "id": "73hkiLFnkdg4"
      },
      "outputs": [],
      "source": [
        "import tensorflow as tf\n",
        "import numpy as np\n",
        "import pandas as pd\n",
        "import matplotlib.pyplot as plt\n",
        "\n",
        "from sklearn.utils import shuffle\n",
        "\n",
        "from tensorflow.keras.layers import Input,Embedding,Flatten,Dense,Concatenate\n",
        "from tensorflow.keras.models import Model\n",
        "from tensorflow.keras.optimizers import SGD"
      ]
    },
    {
      "cell_type": "code",
      "source": [
        "!wget https://files.grouplens.org/datasets/movielens/ml-25m.zip"
      ],
      "metadata": {
        "id": "gcd9hzKCpH91"
      },
      "execution_count": null,
      "outputs": []
    },
    {
      "cell_type": "code",
      "source": [
        "!unzip -n ml-25m.zip"
      ],
      "metadata": {
        "id": "KbqKNZvWpfFu"
      },
      "execution_count": null,
      "outputs": []
    },
    {
      "cell_type": "code",
      "source": [
        "!ls"
      ],
      "metadata": {
        "id": "fyMsRy4aqFE_"
      },
      "execution_count": null,
      "outputs": []
    },
    {
      "cell_type": "code",
      "source": [
        "df = pd.read_csv('ml-25m/ratings.csv')\n",
        "df.head()"
      ],
      "metadata": {
        "id": "3fafAEHiqtbw"
      },
      "execution_count": null,
      "outputs": []
    },
    {
      "cell_type": "code",
      "source": [
        "df.userId = pd.Categorical(df.userId)\n",
        "df['new_userId'] = df.userId.cat.codes\n",
        "\n",
        "df.movieId = pd.Categorical(df.movieId)\n",
        "df['new_movieId'] = df.movieId.cat.codes\n",
        "\n",
        "df.tail()"
      ],
      "metadata": {
        "id": "zP9Z9FoFq-u9"
      },
      "execution_count": null,
      "outputs": []
    },
    {
      "cell_type": "code",
      "source": [
        "user_ids = df['new_userId'].values #working with numpy is better than with dataframes\n",
        "movie_ids = df['new_movieId'].values\n",
        "ratings = df['rating'].values\n",
        "\n",
        "N = len(set(user_ids)) #making set with numpy array because userIDs repeat a lot of times\n",
        "M = len(set(movie_ids))\n",
        "\n",
        "D = 10"
      ],
      "metadata": {
        "id": "XJilJ1icsK20"
      },
      "execution_count": null,
      "outputs": []
    },
    {
      "cell_type": "code",
      "source": [
        "u = Input(shape=(1,))\n",
        "m = Input(shape=(1,))\n",
        "\n",
        "u_emb = Embedding(N,D)(u)\n",
        "m_emb = Embedding(M,D)(m)\n",
        "\n",
        "u_emb = Flatten()(u_emb) # its now (num_samples,D)\n",
        "m_emb = Flatten()(m_emb) # its now (num_samples,D)\n",
        "\n",
        "x = Concatenate()([u_emb,m_emb]) # its now (num_samples,2D)\n",
        "x = Dense(1024,activation='relu')(x)\n",
        "x = Dense(1)(x)\n",
        "\n",
        "model = Model(inputs=[u,m],outputs=x)\n",
        "model.compile(\n",
        "    loss='mse',\n",
        "    optimizer = SGD(lr=0.1,momentum=0.9)\n",
        ")"
      ],
      "metadata": {
        "id": "caQX5Agiw82c"
      },
      "execution_count": null,
      "outputs": []
    },
    {
      "cell_type": "code",
      "source": [
        "user_ids,movie_ids,ratings = shuffle(user_ids,movie_ids,ratings)\n",
        "NTrain = int(0.8*len(ratings))\n",
        "u_train = user_ids[:NTrain]\n",
        "m_train = movie_ids[:NTrain]\n",
        "r_train = ratings[:NTrain]\n",
        "\n",
        "u_test = user_ids[NTrain:]\n",
        "m_test = movie_ids[NTrain:]\n",
        "r_test = ratings[NTrain:]\n",
        "\n",
        "#normalize\n",
        "avg_rating = r_train.mean()\n",
        "r_train = r_train - avg_rating\n",
        "r_test = r_test - avg_rating\n",
        "\n",
        "r = model.fit(\n",
        "    x=[u_train,m_train],\n",
        "    y=r_train,\n",
        "    epochs=25,\n",
        "    batch_size =1024,\n",
        "    verbose=2,\n",
        "    validation_data=([u_test,m_test],r_test),\n",
        ")"
      ],
      "metadata": {
        "id": "4IBbaqXn697G"
      },
      "execution_count": null,
      "outputs": []
    },
    {
      "cell_type": "code",
      "source": [
        "plt.plot(r.history['loss'],label='loss')\n",
        "plt.plot(r.history['val_loss'],label='val_loss')\n",
        "plt.legend()"
      ],
      "metadata": {
        "id": "3R9q4E3je_D_"
      },
      "execution_count": null,
      "outputs": []
    }
  ]
}