{
  "nbformat": 4,
  "nbformat_minor": 0,
  "metadata": {
    "colab": {
      "provenance": [],
      "private_outputs": true,
      "authorship_tag": "ABX9TyN93gFYvyhSw3TAsahH1G/s",
      "include_colab_link": true
    },
    "kernelspec": {
      "name": "python3",
      "display_name": "Python 3"
    },
    "language_info": {
      "name": "python"
    }
  },
  "cells": [
    {
      "cell_type": "markdown",
      "metadata": {
        "id": "view-in-github",
        "colab_type": "text"
      },
      "source": [
        "<a href=\"https://colab.research.google.com/github/MLandML/MLandML/blob/learning_projects/Lstm_Nonlinear.ipynb\" target=\"_parent\"><img src=\"https://colab.research.google.com/assets/colab-badge.svg\" alt=\"Open In Colab\"/></a>"
      ]
    },
    {
      "cell_type": "code",
      "execution_count": null,
      "metadata": {
        "id": "RHsv17bZKrOI"
      },
      "outputs": [],
      "source": [
        "import tensorflow as tf\n",
        "import numpy as np\n",
        "import matplotlib.pyplot as plt\n",
        "import pandas as pd\n",
        "\n",
        "from tensorflow.keras.layers import Input,LSTM,Dense,GRU,Flatten,SimpleRNN\n",
        "from tensorflow.keras.models import Model\n",
        "from tensorflow.keras.optimizers import SGD,Adam"
      ]
    },
    {
      "cell_type": "code",
      "source": [
        "series = np.sin(0.1*np.arange(400)**2)\n",
        "plt.plot(series)"
      ],
      "metadata": {
        "id": "2Ep5nTQ-MFDB"
      },
      "execution_count": null,
      "outputs": []
    },
    {
      "cell_type": "code",
      "source": [
        "T = 10\n",
        "D = 1\n",
        "X = []\n",
        "Y = []\n",
        "\n",
        "for t in range(len(series)-T):\n",
        "  x = series[t:t+T]\n",
        "  y = series[t+T]\n",
        "  X.append(x)\n",
        "  Y.append(y)\n",
        "\n",
        "X = np.array(X).reshape(-1,T)\n",
        "Y = np.array(Y)\n",
        "N = len(X)\n",
        "X.shape"
      ],
      "metadata": {
        "id": "c1k746bxOs3K"
      },
      "execution_count": null,
      "outputs": []
    },
    {
      "cell_type": "code",
      "source": [
        "#linear model\n",
        "i = Input(shape=(T,))\n",
        "x = Dense(1)(i)\n",
        "model = Model(i,x)\n",
        "model.compile(\n",
        "    loss ='mse',\n",
        "    optimizer = Adam(lr=0.1)\n",
        ")\n",
        "\n",
        "r = model.fit(\n",
        "    X[:-N//2],Y[:-N//2],\n",
        "    epochs = 100,\n",
        "    validation_data=(X[-N//2:],Y[-N//2:])\n",
        ")\n"
      ],
      "metadata": {
        "id": "5XYpE8phQAyo"
      },
      "execution_count": null,
      "outputs": []
    },
    {
      "cell_type": "code",
      "source": [
        "plt.plot(r.history['loss'],label='loss')\n",
        "plt.plot(r.history[\"val_loss\"],label=\"val_loss\")\n",
        "plt.legend()"
      ],
      "metadata": {
        "id": "Tejea-OMqlSp"
      },
      "execution_count": null,
      "outputs": []
    },
    {
      "cell_type": "code",
      "source": [
        "#one-step forecasting\n",
        "val_targets = Y[-N//2:]\n",
        "val_preds = []\n",
        "i = -N//2\n",
        "\n",
        "while len(val_preds) < len(val_targets):\n",
        "  p = model.predict(X[i].reshape(1,-1))[0,0]\n",
        "  val_preds.append(p)\n",
        "  i += 1\n",
        "\n",
        "plt.plot(val_targets,label='val_targets') \n",
        "plt.plot(val_preds,label='val_predictions')\n",
        "plt.legend()"
      ],
      "metadata": {
        "id": "8RntD7c7sOg0"
      },
      "execution_count": null,
      "outputs": []
    },
    {
      "cell_type": "code",
      "source": [
        "#multi-step forecasting\n",
        "val_targets = Y[-N//2:]\n",
        "val_preds = []\n",
        "last_x = X[-N//2]\n",
        "\n",
        "while len(val_preds) < len(val_targets):\n",
        "  p = model.predict(last_x.reshape(1,-1))[0,0]\n",
        "  val_preds.append(p)\n",
        "  last_x = np.roll(last_x,-1)\n",
        "  last_x[-1] = p\n",
        "\n",
        "plt.plot(val_targets,label='val_targets')\n",
        "plt.plot(val_preds,label='val_predictions')\n",
        "plt.legend()"
      ],
      "metadata": {
        "id": "CTEBFFAnyHv3"
      },
      "execution_count": null,
      "outputs": []
    },
    {
      "cell_type": "code",
      "source": [
        "#SimpleRNN model\n",
        "X = X.reshape(N,T,D)\n",
        "i = Input(shape=(T,D))\n",
        "x = SimpleRNN(5)(i)\n",
        "x = Dense(1)(x)\n",
        "model = Model(i,x)\n",
        "model.compile(\n",
        "    loss ='mse',\n",
        "    optimizer = Adam(lr=0.1)\n",
        ")\n",
        "\n",
        "r = model.fit(\n",
        "    X[:-N//2],Y[:-N//2],\n",
        "    epochs = 100,\n",
        "    validation_data=(X[-N//2:],Y[-N//2:])\n",
        ")\n"
      ],
      "metadata": {
        "id": "Y0gtQiEp1Lzo"
      },
      "execution_count": null,
      "outputs": []
    },
    {
      "cell_type": "code",
      "source": [
        "#one-step forecasting\n",
        "val_targets = Y[-N//2:]\n",
        "val_preds = []\n",
        "i = -N//2\n",
        "\n",
        "while len(val_preds) < len(val_targets):\n",
        "  p = model.predict(X[i].reshape(1,-1,1))[0,0]\n",
        "  val_preds.append(p)\n",
        "  i += 1\n",
        "\n",
        "plt.plot(val_targets,label='val_targets') \n",
        "plt.plot(val_preds,label='val_predictions')\n",
        "plt.legend()"
      ],
      "metadata": {
        "id": "2Zm9hdFY17I6"
      },
      "execution_count": null,
      "outputs": []
    },
    {
      "cell_type": "code",
      "source": [
        "#multi-step forecasting\n",
        "val_targets = Y[-N//2:]\n",
        "val_preds = []\n",
        "last_x = X[-N//2]\n",
        "\n",
        "while len(val_preds) < len(val_targets):\n",
        "  p = model.predict(last_x.reshape(1,-1,1))[0,0]\n",
        "  val_preds.append(p)\n",
        "  last_x = np.roll(last_x,-1)\n",
        "  last_x[-1] = p\n",
        "\n",
        "plt.plot(val_targets,label='val_targets')\n",
        "plt.plot(val_preds,label='val_predictions')\n",
        "plt.legend()"
      ],
      "metadata": {
        "id": "89D9X3_g1_rS"
      },
      "execution_count": null,
      "outputs": []
    },
    {
      "cell_type": "code",
      "source": [
        "#LSTM model\n",
        "X = X.reshape(N,T,D)\n",
        "i = Input(shape=(T,D))\n",
        "x = LSTM(5)(i)\n",
        "x = Dense(1)(x)\n",
        "model = Model(i,x)\n",
        "model.compile(\n",
        "    loss ='mse',\n",
        "    optimizer = Adam(lr=0.1)\n",
        ")\n",
        "\n",
        "r = model.fit(\n",
        "    X[:-N//2],Y[:-N//2],\n",
        "    epochs = 100,\n",
        "    validation_data=(X[-N//2:],Y[-N//2:])\n",
        ")\n"
      ],
      "metadata": {
        "id": "HMCztD9Y2fMi"
      },
      "execution_count": null,
      "outputs": []
    },
    {
      "cell_type": "code",
      "source": [
        "#one-step forecasting\n",
        "val_targets = Y[-N//2:]\n",
        "val_preds = []\n",
        "i = -N//2\n",
        "\n",
        "while len(val_preds) < len(val_targets):\n",
        "  p = model.predict(X[i].reshape(1,-1,1))[0,0]\n",
        "  val_preds.append(p)\n",
        "  i += 1\n",
        "\n",
        "plt.plot(val_targets,label='val_targets') \n",
        "plt.plot(val_preds,label='val_predictions')\n",
        "plt.legend()"
      ],
      "metadata": {
        "id": "89weKZE62hz4"
      },
      "execution_count": null,
      "outputs": []
    },
    {
      "cell_type": "code",
      "source": [
        "#multi-step forecasting\n",
        "val_targets = Y[-N//2:]\n",
        "val_preds = []\n",
        "last_x = X[-N//2]\n",
        "\n",
        "while len(val_preds) < len(val_targets):\n",
        "  p = model.predict(last_x.reshape(1,-1,1))[0,0]\n",
        "  val_preds.append(p)\n",
        "  last_x = np.roll(last_x,-1)\n",
        "  last_x[-1] = p\n",
        "\n",
        "plt.plot(val_targets,label='val_targets')\n",
        "plt.plot(val_preds,label='val_predictions')\n",
        "plt.legend()"
      ],
      "metadata": {
        "id": "NOhTQ68T2jlC"
      },
      "execution_count": null,
      "outputs": []
    }
  ]
}