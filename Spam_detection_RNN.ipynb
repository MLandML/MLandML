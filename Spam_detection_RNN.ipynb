{
  "nbformat": 4,
  "nbformat_minor": 0,
  "metadata": {
    "colab": {
      "private_outputs": true,
      "provenance": [],
      "authorship_tag": "ABX9TyO3QJPtduAisz4R3DDV36R8",
      "include_colab_link": true
    },
    "kernelspec": {
      "name": "python3",
      "display_name": "Python 3"
    },
    "language_info": {
      "name": "python"
    }
  },
  "cells": [
    {
      "cell_type": "markdown",
      "metadata": {
        "id": "view-in-github",
        "colab_type": "text"
      },
      "source": [
        "<a href=\"https://colab.research.google.com/github/MLandML/MLandML/blob/learning_projects/Spam_detection_RNN.ipynb\" target=\"_parent\"><img src=\"https://colab.research.google.com/assets/colab-badge.svg\" alt=\"Open In Colab\"/></a>"
      ]
    },
    {
      "cell_type": "code",
      "execution_count": null,
      "metadata": {
        "id": "x53i0Z9pEqc0"
      },
      "outputs": [],
      "source": [
        "import numpy as np\n",
        "import pandas as pd\n",
        "import matplotlib.pyplot as plt\n",
        "\n",
        "from tensorflow.keras.preprocessing.text import Tokenizer\n",
        "from tensorflow.keras.preprocessing.sequence import pad_sequences\n",
        "from tensorflow.keras.layers import Input,Embedding,LSTM,Dense,GlobalMaxPooling1D\n",
        "from tensorflow.keras.models import Model\n",
        "from tensorflow.keras.optimizers import Adam"
      ]
    },
    {
      "cell_type": "code",
      "source": [
        "from google.colab import files\n",
        "uploaded = files.upload()"
      ],
      "metadata": {
        "id": "SdS3fFkLciJY"
      },
      "execution_count": null,
      "outputs": []
    },
    {
      "cell_type": "code",
      "source": [
        "import io\n",
        "df = pd.read_csv(io.BytesIO(uploaded['spam.csv']),encoding='ISO-8859-1')\n",
        "df.head()"
      ],
      "metadata": {
        "id": "M90QHGbpelDP"
      },
      "execution_count": null,
      "outputs": []
    },
    {
      "cell_type": "code",
      "source": [
        "df.drop(['Unnamed: 2','Unnamed: 3','Unnamed: 4'],axis=1,inplace=True)"
      ],
      "metadata": {
        "id": "-9IXGljWgXsu"
      },
      "execution_count": null,
      "outputs": []
    },
    {
      "cell_type": "code",
      "source": [
        "df.head()"
      ],
      "metadata": {
        "id": "jczqGi6zgnvO"
      },
      "execution_count": null,
      "outputs": []
    },
    {
      "cell_type": "code",
      "source": [
        "df.columns = ['label','data']\n",
        "df.head()"
      ],
      "metadata": {
        "id": "57RjdHEDjt54"
      },
      "execution_count": null,
      "outputs": []
    },
    {
      "cell_type": "code",
      "source": [
        "df['b_labels'] = df['label'].map({'ham':0,'spam':1})\n",
        "Y = df['b_labels'].values\n",
        "from sklearn.model_selection import train_test_split\n",
        "df_train,df_test,y_train,y_test = train_test_split(df['data'],Y,test_size=0.33)"
      ],
      "metadata": {
        "id": "Zy8vSjnlj3KR"
      },
      "execution_count": null,
      "outputs": []
    },
    {
      "cell_type": "code",
      "source": [
        "MAX_VOCAB_LEN = 20000\n",
        "tokenizer = Tokenizer(num_words=MAX_VOCAB_LEN)\n",
        "tokenizer.fit_on_texts(df_train)\n",
        "sequence_train = tokenizer.texts_to_sequences(df_train)\n",
        "sequence_test = tokenizer.texts_to_sequences(df_test)"
      ],
      "metadata": {
        "id": "aJmLTaKVlb3g"
      },
      "execution_count": null,
      "outputs": []
    },
    {
      "cell_type": "code",
      "source": [
        "word2idx = tokenizer.word_index\n",
        "V = len(word2idx)\n",
        "V"
      ],
      "metadata": {
        "id": "NjFyhNHUwpIS"
      },
      "execution_count": null,
      "outputs": []
    },
    {
      "cell_type": "code",
      "source": [
        "data_train = pad_sequences(sequence_train)\n",
        "T = data_train.shape[1]\n",
        "data_test = pad_sequences(sequence_test,maxlen=T)"
      ],
      "metadata": {
        "id": "i3-iKDpPwWYf"
      },
      "execution_count": null,
      "outputs": []
    },
    {
      "cell_type": "code",
      "source": [
        "data_train.shape"
      ],
      "metadata": {
        "id": "4jlNMOOfyFz6"
      },
      "execution_count": null,
      "outputs": []
    },
    {
      "cell_type": "code",
      "source": [
        "D = 15\n",
        "M = 32\n",
        "i = Input(shape=(T,))\n",
        "x = Embedding(V+1,D)(i)\n",
        "x = LSTM(M,return_sequences=True)(x)\n",
        "x = GlobalMaxPooling1D()(x)\n",
        "x = Dense(1,activation='sigmoid')(x)\n",
        "\n",
        "model = Model(i,x)\n",
        "\n",
        "model.compile(\n",
        "    loss='binary_crossentropy',\n",
        "    optimizer = Adam(lr=0.01),\n",
        "    metrics = ['accuracy']\n",
        "    )\n",
        "\n",
        "r = model.fit(data_train,y_train,epochs=10,validation_data=(data_test,y_test))"
      ],
      "metadata": {
        "id": "vU_lSZJ0xaMG"
      },
      "execution_count": null,
      "outputs": []
    },
    {
      "cell_type": "code",
      "source": [
        "plt.plot(r.history['loss'],label='loss')\n",
        "plt.plot(r.history['val_loss'],label='val_loss')\n",
        "plt.legend()"
      ],
      "metadata": {
        "id": "g8GNomUL0iXd"
      },
      "execution_count": null,
      "outputs": []
    },
    {
      "cell_type": "code",
      "source": [
        "plt.plot(r.history['accuracy'],label='acc')\n",
        "plt.plot(r.history['val_accuracy'],label='val_acc')\n",
        "plt.legend()"
      ],
      "metadata": {
        "id": "XMBuXnaR0zXL"
      },
      "execution_count": null,
      "outputs": []
    }
  ]
}